{
 "cells": [
  {
   "cell_type": "code",
   "execution_count": 25,
   "id": "c3666143",
   "metadata": {},
   "outputs": [],
   "source": [
    "import pandas as pd\n",
    "import numpy as np"
   ]
  },
  {
   "cell_type": "code",
   "execution_count": 6,
   "id": "10e931eb",
   "metadata": {},
   "outputs": [],
   "source": [
    "#Import the Cab_Data into the notbook and name it 'Cab_Data'\n",
    "#note that you had to use 'pip intall openpyxl' to install the package to open this excel files.\n",
    "Cab_Data = pd.read_excel('C:/Users/14432/Downloads/Cab_Data.xlsx')"
   ]
  },
  {
   "cell_type": "markdown",
   "id": "d2c72c0b",
   "metadata": {},
   "source": [
    "# Exploratory Data Analysis of the Cab Data"
   ]
  },
  {
   "cell_type": "code",
   "execution_count": 31,
   "id": "b4174ea7",
   "metadata": {},
   "outputs": [
    {
     "data": {
      "text/html": [
       "<div>\n",
       "<style scoped>\n",
       "    .dataframe tbody tr th:only-of-type {\n",
       "        vertical-align: middle;\n",
       "    }\n",
       "\n",
       "    .dataframe tbody tr th {\n",
       "        vertical-align: top;\n",
       "    }\n",
       "\n",
       "    .dataframe thead th {\n",
       "        text-align: right;\n",
       "    }\n",
       "</style>\n",
       "<table border=\"1\" class=\"dataframe\">\n",
       "  <thead>\n",
       "    <tr style=\"text-align: right;\">\n",
       "      <th></th>\n",
       "      <th>Transaction ID</th>\n",
       "      <th>Date of Travel</th>\n",
       "      <th>Company</th>\n",
       "      <th>City</th>\n",
       "      <th>KM Travelled</th>\n",
       "      <th>Price Charged</th>\n",
       "      <th>Cost of Trip</th>\n",
       "    </tr>\n",
       "  </thead>\n",
       "  <tbody>\n",
       "    <tr>\n",
       "      <th>0</th>\n",
       "      <td>10000011</td>\n",
       "      <td>2016-01-08</td>\n",
       "      <td>Pink Cab</td>\n",
       "      <td>ATLANTA GA</td>\n",
       "      <td>30.45</td>\n",
       "      <td>370.95</td>\n",
       "      <td>313.635</td>\n",
       "    </tr>\n",
       "    <tr>\n",
       "      <th>1</th>\n",
       "      <td>10000012</td>\n",
       "      <td>2016-01-06</td>\n",
       "      <td>Pink Cab</td>\n",
       "      <td>ATLANTA GA</td>\n",
       "      <td>28.62</td>\n",
       "      <td>358.52</td>\n",
       "      <td>334.854</td>\n",
       "    </tr>\n",
       "    <tr>\n",
       "      <th>2</th>\n",
       "      <td>10000013</td>\n",
       "      <td>2016-01-02</td>\n",
       "      <td>Pink Cab</td>\n",
       "      <td>ATLANTA GA</td>\n",
       "      <td>9.04</td>\n",
       "      <td>125.20</td>\n",
       "      <td>97.632</td>\n",
       "    </tr>\n",
       "    <tr>\n",
       "      <th>3</th>\n",
       "      <td>10000014</td>\n",
       "      <td>2016-01-07</td>\n",
       "      <td>Pink Cab</td>\n",
       "      <td>ATLANTA GA</td>\n",
       "      <td>33.17</td>\n",
       "      <td>377.40</td>\n",
       "      <td>351.602</td>\n",
       "    </tr>\n",
       "    <tr>\n",
       "      <th>4</th>\n",
       "      <td>10000015</td>\n",
       "      <td>2016-01-03</td>\n",
       "      <td>Pink Cab</td>\n",
       "      <td>ATLANTA GA</td>\n",
       "      <td>8.73</td>\n",
       "      <td>114.62</td>\n",
       "      <td>97.776</td>\n",
       "    </tr>\n",
       "  </tbody>\n",
       "</table>\n",
       "</div>"
      ],
      "text/plain": [
       "   Transaction ID Date of Travel   Company        City  KM Travelled  \\\n",
       "0        10000011     2016-01-08  Pink Cab  ATLANTA GA         30.45   \n",
       "1        10000012     2016-01-06  Pink Cab  ATLANTA GA         28.62   \n",
       "2        10000013     2016-01-02  Pink Cab  ATLANTA GA          9.04   \n",
       "3        10000014     2016-01-07  Pink Cab  ATLANTA GA         33.17   \n",
       "4        10000015     2016-01-03  Pink Cab  ATLANTA GA          8.73   \n",
       "\n",
       "   Price Charged  Cost of Trip  \n",
       "0         370.95       313.635  \n",
       "1         358.52       334.854  \n",
       "2         125.20        97.632  \n",
       "3         377.40       351.602  \n",
       "4         114.62        97.776  "
      ]
     },
     "execution_count": 31,
     "metadata": {},
     "output_type": "execute_result"
    }
   ],
   "source": [
    "Cab_Data.head() #view the data"
   ]
  },
  {
   "cell_type": "code",
   "execution_count": 23,
   "id": "175abce0",
   "metadata": {},
   "outputs": [
    {
     "data": {
      "text/html": [
       "<div>\n",
       "<style scoped>\n",
       "    .dataframe tbody tr th:only-of-type {\n",
       "        vertical-align: middle;\n",
       "    }\n",
       "\n",
       "    .dataframe tbody tr th {\n",
       "        vertical-align: top;\n",
       "    }\n",
       "\n",
       "    .dataframe thead th {\n",
       "        text-align: right;\n",
       "    }\n",
       "</style>\n",
       "<table border=\"1\" class=\"dataframe\">\n",
       "  <thead>\n",
       "    <tr style=\"text-align: right;\">\n",
       "      <th></th>\n",
       "      <th>Transaction ID</th>\n",
       "      <th>Date of Travel</th>\n",
       "      <th>Company</th>\n",
       "      <th>City</th>\n",
       "      <th>KM Travelled</th>\n",
       "      <th>Price Charged</th>\n",
       "      <th>Cost of Trip</th>\n",
       "    </tr>\n",
       "  </thead>\n",
       "  <tbody>\n",
       "    <tr>\n",
       "      <th>359387</th>\n",
       "      <td>10440101</td>\n",
       "      <td>2018-01-08</td>\n",
       "      <td>Yellow Cab</td>\n",
       "      <td>WASHINGTON DC</td>\n",
       "      <td>4.80</td>\n",
       "      <td>69.24</td>\n",
       "      <td>63.3600</td>\n",
       "    </tr>\n",
       "    <tr>\n",
       "      <th>359388</th>\n",
       "      <td>10440104</td>\n",
       "      <td>2018-01-04</td>\n",
       "      <td>Yellow Cab</td>\n",
       "      <td>WASHINGTON DC</td>\n",
       "      <td>8.40</td>\n",
       "      <td>113.75</td>\n",
       "      <td>106.8480</td>\n",
       "    </tr>\n",
       "    <tr>\n",
       "      <th>359389</th>\n",
       "      <td>10440105</td>\n",
       "      <td>2018-01-05</td>\n",
       "      <td>Yellow Cab</td>\n",
       "      <td>WASHINGTON DC</td>\n",
       "      <td>27.75</td>\n",
       "      <td>437.07</td>\n",
       "      <td>349.6500</td>\n",
       "    </tr>\n",
       "    <tr>\n",
       "      <th>359390</th>\n",
       "      <td>10440106</td>\n",
       "      <td>2018-01-05</td>\n",
       "      <td>Yellow Cab</td>\n",
       "      <td>WASHINGTON DC</td>\n",
       "      <td>8.80</td>\n",
       "      <td>146.19</td>\n",
       "      <td>114.0480</td>\n",
       "    </tr>\n",
       "    <tr>\n",
       "      <th>359391</th>\n",
       "      <td>10440107</td>\n",
       "      <td>2018-01-02</td>\n",
       "      <td>Yellow Cab</td>\n",
       "      <td>WASHINGTON DC</td>\n",
       "      <td>12.76</td>\n",
       "      <td>191.58</td>\n",
       "      <td>177.6192</td>\n",
       "    </tr>\n",
       "  </tbody>\n",
       "</table>\n",
       "</div>"
      ],
      "text/plain": [
       "        Transaction ID Date of Travel     Company           City  \\\n",
       "359387        10440101     2018-01-08  Yellow Cab  WASHINGTON DC   \n",
       "359388        10440104     2018-01-04  Yellow Cab  WASHINGTON DC   \n",
       "359389        10440105     2018-01-05  Yellow Cab  WASHINGTON DC   \n",
       "359390        10440106     2018-01-05  Yellow Cab  WASHINGTON DC   \n",
       "359391        10440107     2018-01-02  Yellow Cab  WASHINGTON DC   \n",
       "\n",
       "        KM Travelled  Price Charged  Cost of Trip  \n",
       "359387          4.80          69.24       63.3600  \n",
       "359388          8.40         113.75      106.8480  \n",
       "359389         27.75         437.07      349.6500  \n",
       "359390          8.80         146.19      114.0480  \n",
       "359391         12.76         191.58      177.6192  "
      ]
     },
     "execution_count": 23,
     "metadata": {},
     "output_type": "execute_result"
    }
   ],
   "source": [
    "Cab_Data.tail() #view the data"
   ]
  },
  {
   "cell_type": "code",
   "execution_count": 6,
   "id": "f3886a5c",
   "metadata": {},
   "outputs": [
    {
     "data": {
      "text/plain": [
       "Transaction ID    0\n",
       "Date of Travel    0\n",
       "Company           0\n",
       "City              0\n",
       "KM Travelled      0\n",
       "Price Charged     0\n",
       "Cost of Trip      0\n",
       "dtype: int64"
      ]
     },
     "execution_count": 6,
     "metadata": {},
     "output_type": "execute_result"
    }
   ],
   "source": [
    "#Check for missing values\n",
    "Cab_Data.isnull().sum()"
   ]
  },
  {
   "cell_type": "code",
   "execution_count": 23,
   "id": "3141bbbd",
   "metadata": {},
   "outputs": [
    {
     "name": "stdout",
     "output_type": "stream",
     "text": [
      "<class 'pandas.core.frame.DataFrame'>\n",
      "RangeIndex: 359392 entries, 0 to 359391\n",
      "Data columns (total 8 columns):\n",
      " #   Column          Non-Null Count   Dtype         \n",
      "---  ------          --------------   -----         \n",
      " 0   Transaction ID  359392 non-null  int64         \n",
      " 1   Date of Travel  359392 non-null  datetime64[ns]\n",
      " 2   Company         359392 non-null  object        \n",
      " 3   City            359392 non-null  object        \n",
      " 4   KM Travelled    359392 non-null  float64       \n",
      " 5   Price Charged   359392 non-null  float64       \n",
      " 6   Cost of Trip    359392 non-null  float64       \n",
      " 7   Profit          359392 non-null  float64       \n",
      "dtypes: datetime64[ns](1), float64(4), int64(1), object(2)\n",
      "memory usage: 21.9+ MB\n"
     ]
    }
   ],
   "source": [
    "#There are no null values, so we want a description of our data\n",
    "Cab_Data.info()"
   ]
  },
  {
   "cell_type": "code",
   "execution_count": 8,
   "id": "aec5a475",
   "metadata": {},
   "outputs": [
    {
     "data": {
      "text/html": [
       "<div>\n",
       "<style scoped>\n",
       "    .dataframe tbody tr th:only-of-type {\n",
       "        vertical-align: middle;\n",
       "    }\n",
       "\n",
       "    .dataframe tbody tr th {\n",
       "        vertical-align: top;\n",
       "    }\n",
       "\n",
       "    .dataframe thead th {\n",
       "        text-align: right;\n",
       "    }\n",
       "</style>\n",
       "<table border=\"1\" class=\"dataframe\">\n",
       "  <thead>\n",
       "    <tr style=\"text-align: right;\">\n",
       "      <th></th>\n",
       "      <th>Transaction ID</th>\n",
       "      <th>KM Travelled</th>\n",
       "      <th>Price Charged</th>\n",
       "      <th>Cost of Trip</th>\n",
       "    </tr>\n",
       "  </thead>\n",
       "  <tbody>\n",
       "    <tr>\n",
       "      <th>count</th>\n",
       "      <td>3.593920e+05</td>\n",
       "      <td>359392.000000</td>\n",
       "      <td>359392.000000</td>\n",
       "      <td>359392.000000</td>\n",
       "    </tr>\n",
       "    <tr>\n",
       "      <th>mean</th>\n",
       "      <td>1.022076e+07</td>\n",
       "      <td>22.567254</td>\n",
       "      <td>423.443311</td>\n",
       "      <td>286.190113</td>\n",
       "    </tr>\n",
       "    <tr>\n",
       "      <th>std</th>\n",
       "      <td>1.268058e+05</td>\n",
       "      <td>12.233526</td>\n",
       "      <td>274.378911</td>\n",
       "      <td>157.993661</td>\n",
       "    </tr>\n",
       "    <tr>\n",
       "      <th>min</th>\n",
       "      <td>1.000001e+07</td>\n",
       "      <td>1.900000</td>\n",
       "      <td>15.600000</td>\n",
       "      <td>19.000000</td>\n",
       "    </tr>\n",
       "    <tr>\n",
       "      <th>25%</th>\n",
       "      <td>1.011081e+07</td>\n",
       "      <td>12.000000</td>\n",
       "      <td>206.437500</td>\n",
       "      <td>151.200000</td>\n",
       "    </tr>\n",
       "    <tr>\n",
       "      <th>50%</th>\n",
       "      <td>1.022104e+07</td>\n",
       "      <td>22.440000</td>\n",
       "      <td>386.360000</td>\n",
       "      <td>282.480000</td>\n",
       "    </tr>\n",
       "    <tr>\n",
       "      <th>75%</th>\n",
       "      <td>1.033094e+07</td>\n",
       "      <td>32.960000</td>\n",
       "      <td>583.660000</td>\n",
       "      <td>413.683200</td>\n",
       "    </tr>\n",
       "    <tr>\n",
       "      <th>max</th>\n",
       "      <td>1.044011e+07</td>\n",
       "      <td>48.000000</td>\n",
       "      <td>2048.030000</td>\n",
       "      <td>691.200000</td>\n",
       "    </tr>\n",
       "  </tbody>\n",
       "</table>\n",
       "</div>"
      ],
      "text/plain": [
       "       Transaction ID   KM Travelled  Price Charged   Cost of Trip\n",
       "count    3.593920e+05  359392.000000  359392.000000  359392.000000\n",
       "mean     1.022076e+07      22.567254     423.443311     286.190113\n",
       "std      1.268058e+05      12.233526     274.378911     157.993661\n",
       "min      1.000001e+07       1.900000      15.600000      19.000000\n",
       "25%      1.011081e+07      12.000000     206.437500     151.200000\n",
       "50%      1.022104e+07      22.440000     386.360000     282.480000\n",
       "75%      1.033094e+07      32.960000     583.660000     413.683200\n",
       "max      1.044011e+07      48.000000    2048.030000     691.200000"
      ]
     },
     "execution_count": 8,
     "metadata": {},
     "output_type": "execute_result"
    }
   ],
   "source": [
    "#The data types are correct. We want a statistical summary of our data to better undertand it.\n",
    "Cab_Data.describe()"
   ]
  },
  {
   "cell_type": "code",
   "execution_count": null,
   "id": "6d01e022",
   "metadata": {},
   "outputs": [],
   "source": [
    "#From the summary statistics we see that the average trip distance is 22.6km, also the maximum price charged for a trip is about 2048 and the minimum is 15.6. \n",
    "#Why is the minimum price charged for a trip (15.6) lesser than the minimun cost of the trip (19), this may imply that not all trips are profitable.\n",
    "#To be sure of this we should add a column containing the profits from each trip (Price Charged - Cost of Trip) to check each company's profits."
   ]
  },
  {
   "cell_type": "code",
   "execution_count": 30,
   "id": "452d9fd8",
   "metadata": {},
   "outputs": [],
   "source": [
    "#We check for outliers\n",
    "import matplotlib.pyplot as plt"
   ]
  },
  {
   "cell_type": "code",
   "execution_count": 23,
   "id": "33baf557",
   "metadata": {},
   "outputs": [
    {
     "data": {
      "text/plain": [
       "array([[<Axes: title={'center': 'Transaction ID'}>,\n",
       "        <Axes: title={'center': 'Date of Travel'}>],\n",
       "       [<Axes: title={'center': 'KM Travelled'}>,\n",
       "        <Axes: title={'center': 'Price Charged'}>],\n",
       "       [<Axes: title={'center': 'Cost of Trip'}>, <Axes: >]], dtype=object)"
      ]
     },
     "execution_count": 23,
     "metadata": {},
     "output_type": "execute_result"
    },
    {
     "data": {
      "image/png": "[encoded data removed]",
      "text/plain": [
       "<Figure size 640x480 with 6 Axes>"
      ]
     },
     "metadata": {},
     "output_type": "display_data"
    }
   ],
   "source": [
    "Cab_Data.hist()"
   ]
  },
  {
   "cell_type": "code",
   "execution_count": 25,
   "id": "2d443df1",
   "metadata": {},
   "outputs": [
    {
     "data": {
      "text/plain": [
       "<Axes: >"
      ]
     },
     "execution_count": 25,
     "metadata": {},
     "output_type": "execute_result"
    },
    {
     "data": {
      "image/png": "[encoded data removed]",
      "text/plain": [
       "<Figure size 640x480 with 1 Axes>"
      ]
     },
     "metadata": {},
     "output_type": "display_data"
    }
   ],
   "source": [
    "Cab_Data.boxplot('Cost of Trip')"
   ]
  },
  {
   "cell_type": "code",
   "execution_count": 26,
   "id": "7d9e63ed",
   "metadata": {},
   "outputs": [
    {
     "data": {
      "text/plain": [
       "<Axes: >"
      ]
     },
     "execution_count": 26,
     "metadata": {},
     "output_type": "execute_result"
    },
    {
     "data": {
      "image/png": "[encoded data removed]",
      "text/plain": [
       "<Figure size 640x480 with 1 Axes>"
      ]
     },
     "metadata": {},
     "output_type": "display_data"
    }
   ],
   "source": [
    "Cab_Data.boxplot('Price Charged')"
   ]
  },
  {
   "cell_type": "code",
   "execution_count": null,
   "id": "9f13bd08",
   "metadata": {},
   "outputs": [],
   "source": [
    "#The boxplot for price charged shows the presence of concentrated outliers. We cannot dismiss them as unimportant for the analysis."
   ]
  },
  {
   "cell_type": "code",
   "execution_count": 25,
   "id": "86dc2b2f",
   "metadata": {},
   "outputs": [
    {
     "data": {
      "text/plain": [
       "0    Yellow Cab\n",
       "Name: Company, dtype: object"
      ]
     },
     "execution_count": 25,
     "metadata": {},
     "output_type": "execute_result"
    }
   ],
   "source": [
    "#Which cab company has the higher occurence frequency in the data. to know this we will find the mode of the 'company' column.\n",
    "\n",
    "Cab_Data.Company.mode()"
   ]
  },
  {
   "cell_type": "code",
   "execution_count": null,
   "id": "f56cd626",
   "metadata": {},
   "outputs": [],
   "source": [
    "# The mode shows that yellow cab occurs more in the data, does this mean that yellow cab is patronized more? \n",
    "#Also, does it mean yellow cab makes more profit?"
   ]
  },
  {
   "cell_type": "code",
   "execution_count": 26,
   "id": "aaf61ce8",
   "metadata": {},
   "outputs": [
    {
     "data": {
      "text/plain": [
       "Yellow Cab    274681\n",
       "Pink Cab       84711\n",
       "Name: Company, dtype: int64"
      ]
     },
     "execution_count": 26,
     "metadata": {},
     "output_type": "execute_result"
    }
   ],
   "source": [
    "#Find the frequency of the occurence of yellow cab and pink cab.\n",
    "Cab_Data.Company.value_counts()"
   ]
  },
  {
   "cell_type": "code",
   "execution_count": 28,
   "id": "48c92f5d",
   "metadata": {},
   "outputs": [],
   "source": [
    "#Create a column with the profit from each trip derived by subtracting the cost of the trip from the price charged.\n",
    "Cab_Data['Profit'] = Cab_Data['Price Charged'] - Cab_Data['Cost of Trip']"
   ]
  },
  {
   "cell_type": "code",
   "execution_count": 29,
   "id": "f2ededd3",
   "metadata": {},
   "outputs": [
    {
     "data": {
      "text/html": [
       "<div>\n",
       "<style scoped>\n",
       "    .dataframe tbody tr th:only-of-type {\n",
       "        vertical-align: middle;\n",
       "    }\n",
       "\n",
       "    .dataframe tbody tr th {\n",
       "        vertical-align: top;\n",
       "    }\n",
       "\n",
       "    .dataframe thead th {\n",
       "        text-align: right;\n",
       "    }\n",
       "</style>\n",
       "<table border=\"1\" class=\"dataframe\">\n",
       "  <thead>\n",
       "    <tr style=\"text-align: right;\">\n",
       "      <th></th>\n",
       "      <th>Transaction ID</th>\n",
       "      <th>Date of Travel</th>\n",
       "      <th>Company</th>\n",
       "      <th>City</th>\n",
       "      <th>KM Travelled</th>\n",
       "      <th>Price Charged</th>\n",
       "      <th>Cost of Trip</th>\n",
       "      <th>Profit</th>\n",
       "    </tr>\n",
       "  </thead>\n",
       "  <tbody>\n",
       "    <tr>\n",
       "      <th>0</th>\n",
       "      <td>10000011</td>\n",
       "      <td>2016-01-08</td>\n",
       "      <td>Pink Cab</td>\n",
       "      <td>ATLANTA GA</td>\n",
       "      <td>30.45</td>\n",
       "      <td>370.95</td>\n",
       "      <td>313.635</td>\n",
       "      <td>57.315</td>\n",
       "    </tr>\n",
       "    <tr>\n",
       "      <th>1</th>\n",
       "      <td>10000012</td>\n",
       "      <td>2016-01-06</td>\n",
       "      <td>Pink Cab</td>\n",
       "      <td>ATLANTA GA</td>\n",
       "      <td>28.62</td>\n",
       "      <td>358.52</td>\n",
       "      <td>334.854</td>\n",
       "      <td>23.666</td>\n",
       "    </tr>\n",
       "    <tr>\n",
       "      <th>2</th>\n",
       "      <td>10000013</td>\n",
       "      <td>2016-01-02</td>\n",
       "      <td>Pink Cab</td>\n",
       "      <td>ATLANTA GA</td>\n",
       "      <td>9.04</td>\n",
       "      <td>125.20</td>\n",
       "      <td>97.632</td>\n",
       "      <td>27.568</td>\n",
       "    </tr>\n",
       "    <tr>\n",
       "      <th>3</th>\n",
       "      <td>10000014</td>\n",
       "      <td>2016-01-07</td>\n",
       "      <td>Pink Cab</td>\n",
       "      <td>ATLANTA GA</td>\n",
       "      <td>33.17</td>\n",
       "      <td>377.40</td>\n",
       "      <td>351.602</td>\n",
       "      <td>25.798</td>\n",
       "    </tr>\n",
       "    <tr>\n",
       "      <th>4</th>\n",
       "      <td>10000015</td>\n",
       "      <td>2016-01-03</td>\n",
       "      <td>Pink Cab</td>\n",
       "      <td>ATLANTA GA</td>\n",
       "      <td>8.73</td>\n",
       "      <td>114.62</td>\n",
       "      <td>97.776</td>\n",
       "      <td>16.844</td>\n",
       "    </tr>\n",
       "  </tbody>\n",
       "</table>\n",
       "</div>"
      ],
      "text/plain": [
       "   Transaction ID Date of Travel   Company        City  KM Travelled  \\\n",
       "0        10000011     2016-01-08  Pink Cab  ATLANTA GA         30.45   \n",
       "1        10000012     2016-01-06  Pink Cab  ATLANTA GA         28.62   \n",
       "2        10000013     2016-01-02  Pink Cab  ATLANTA GA          9.04   \n",
       "3        10000014     2016-01-07  Pink Cab  ATLANTA GA         33.17   \n",
       "4        10000015     2016-01-03  Pink Cab  ATLANTA GA          8.73   \n",
       "\n",
       "   Price Charged  Cost of Trip  Profit  \n",
       "0         370.95       313.635  57.315  \n",
       "1         358.52       334.854  23.666  \n",
       "2         125.20        97.632  27.568  \n",
       "3         377.40       351.602  25.798  \n",
       "4         114.62        97.776  16.844  "
      ]
     },
     "execution_count": 29,
     "metadata": {},
     "output_type": "execute_result"
    }
   ],
   "source": [
    "Cab_Data.head()"
   ]
  },
  {
   "cell_type": "code",
   "execution_count": 41,
   "id": "81377690",
   "metadata": {},
   "outputs": [
    {
     "data": {
      "text/plain": [
       "Company\n",
       "Pink Cab      Axes(0.125,0.2;0.775x0.68)\n",
       "Yellow Cab    Axes(0.125,0.2;0.775x0.68)\n",
       "Name: Profit, dtype: object"
      ]
     },
     "execution_count": 41,
     "metadata": {},
     "output_type": "execute_result"
    },
    {
     "data": {
      "image/png": "[encoded data removed]",
      "text/plain": [
       "<Figure size 640x480 with 1 Axes>"
      ]
     },
     "metadata": {},
     "output_type": "display_data"
    }
   ],
   "source": [
    "#What is the trend in profit made by the cab companies overtime?\n",
    "#Visualize profit of the cab companies over time.\n",
    "Cab_Data.set_index('Date of Travel', inplace=True)\n",
    "\n",
    "Cab_Data.groupby('Company')['Profit'].plot(legend=True)\n",
    "\n"
   ]
  },
  {
   "cell_type": "code",
   "execution_count": null,
   "id": "cdba32f4",
   "metadata": {},
   "outputs": [],
   "source": [
    "#From the Line chart above, it can be seen that over time, yellow cab company has been more profitable than the pink cab company."
   ]
  },
  {
   "cell_type": "code",
   "execution_count": 42,
   "id": "3b09a1d9",
   "metadata": {},
   "outputs": [
    {
     "data": {
      "text/plain": [
       "Text(0.5, 1.0, 'Relationship between Profit and KM Travelled')"
      ]
     },
     "execution_count": 42,
     "metadata": {},
     "output_type": "execute_result"
    },
    {
     "data": {
      "image/png": "[encoded data removed]",
      "text/plain": [
       "<Figure size 640x480 with 1 Axes>"
      ]
     },
     "metadata": {},
     "output_type": "display_data"
    }
   ],
   "source": [
    "# Is there a relationship between the kilometer travelled and profit made by the cab companies?\n",
    "#Scatter plot of 'km travelled' and 'profit'\n",
    "Cab_Data.plot.scatter('KM Travelled', 'Profit')\n",
    "plt.title('Relationship between Profit and KM Travelled')"
   ]
  },
  {
   "cell_type": "code",
   "execution_count": null,
   "id": "f66d113b",
   "metadata": {},
   "outputs": [],
   "source": [
    "#From the scatter plot above, it appears that there is a positive relationship betwwen the kilometer a cab company travels and the profit made. \n",
    "#This implies that the more the kilometer travelled, the higher the profit made.\n",
    "#Further statistical tests will be run to confirm this."
   ]
  },
  {
   "cell_type": "code",
   "execution_count": 8,
   "id": "84bba432",
   "metadata": {},
   "outputs": [
    {
     "data": {
      "image/png": "[encoded data removed]",
      "text/plain": [
       "<Figure size 640x480 with 1 Axes>"
      ]
     },
     "metadata": {},
     "output_type": "display_data"
    }
   ],
   "source": [
    "#Visualize the categorical data (company).\n",
    "# creating the bar plot\n",
    "import matplotlib.pyplot as plt\n",
    "Cab_Data.Company.value_counts().plot.barh()\n",
    " \n",
    "plt.xlabel(\"No. of Occurrence\")\n",
    "plt.ylabel(\"Company\")\n",
    "plt.title(\"Occurence of Yellow and Pink Cabs\")\n",
    "plt.show()\n",
    "plt.close()"
   ]
  },
  {
   "cell_type": "code",
   "execution_count": null,
   "id": "f08df327",
   "metadata": {},
   "outputs": [],
   "source": [
    "#The bar chart shows that the yellow cab company has more transactions than the pink cab company. \n"
   ]
  },
  {
   "cell_type": "code",
   "execution_count": 9,
   "id": "91abb93a",
   "metadata": {},
   "outputs": [
    {
     "data": {
      "text/html": [
       "<div>\n",
       "<style scoped>\n",
       "    .dataframe tbody tr th:only-of-type {\n",
       "        vertical-align: middle;\n",
       "    }\n",
       "\n",
       "    .dataframe tbody tr th {\n",
       "        vertical-align: top;\n",
       "    }\n",
       "\n",
       "    .dataframe thead th {\n",
       "        text-align: right;\n",
       "    }\n",
       "</style>\n",
       "<table border=\"1\" class=\"dataframe\">\n",
       "  <thead>\n",
       "    <tr style=\"text-align: right;\">\n",
       "      <th>Company</th>\n",
       "      <th>Pink Cab</th>\n",
       "      <th>Yellow Cab</th>\n",
       "    </tr>\n",
       "    <tr>\n",
       "      <th>City</th>\n",
       "      <th></th>\n",
       "      <th></th>\n",
       "    </tr>\n",
       "  </thead>\n",
       "  <tbody>\n",
       "    <tr>\n",
       "      <th>ATLANTA GA</th>\n",
       "      <td>1762</td>\n",
       "      <td>5795</td>\n",
       "    </tr>\n",
       "    <tr>\n",
       "      <th>AUSTIN TX</th>\n",
       "      <td>1868</td>\n",
       "      <td>3028</td>\n",
       "    </tr>\n",
       "    <tr>\n",
       "      <th>BOSTON MA</th>\n",
       "      <td>5186</td>\n",
       "      <td>24506</td>\n",
       "    </tr>\n",
       "    <tr>\n",
       "      <th>CHICAGO IL</th>\n",
       "      <td>9361</td>\n",
       "      <td>47264</td>\n",
       "    </tr>\n",
       "    <tr>\n",
       "      <th>DALLAS TX</th>\n",
       "      <td>1380</td>\n",
       "      <td>5637</td>\n",
       "    </tr>\n",
       "    <tr>\n",
       "      <th>DENVER CO</th>\n",
       "      <td>1394</td>\n",
       "      <td>2431</td>\n",
       "    </tr>\n",
       "    <tr>\n",
       "      <th>LOS ANGELES CA</th>\n",
       "      <td>19865</td>\n",
       "      <td>28168</td>\n",
       "    </tr>\n",
       "    <tr>\n",
       "      <th>MIAMI FL</th>\n",
       "      <td>2002</td>\n",
       "      <td>4452</td>\n",
       "    </tr>\n",
       "    <tr>\n",
       "      <th>NASHVILLE TN</th>\n",
       "      <td>1841</td>\n",
       "      <td>1169</td>\n",
       "    </tr>\n",
       "    <tr>\n",
       "      <th>NEW YORK NY</th>\n",
       "      <td>13967</td>\n",
       "      <td>85918</td>\n",
       "    </tr>\n",
       "    <tr>\n",
       "      <th>ORANGE COUNTY</th>\n",
       "      <td>1513</td>\n",
       "      <td>2469</td>\n",
       "    </tr>\n",
       "    <tr>\n",
       "      <th>PHOENIX AZ</th>\n",
       "      <td>864</td>\n",
       "      <td>1200</td>\n",
       "    </tr>\n",
       "    <tr>\n",
       "      <th>PITTSBURGH PA</th>\n",
       "      <td>682</td>\n",
       "      <td>631</td>\n",
       "    </tr>\n",
       "    <tr>\n",
       "      <th>SACRAMENTO CA</th>\n",
       "      <td>1334</td>\n",
       "      <td>1033</td>\n",
       "    </tr>\n",
       "    <tr>\n",
       "      <th>SAN DIEGO CA</th>\n",
       "      <td>10672</td>\n",
       "      <td>9816</td>\n",
       "    </tr>\n",
       "    <tr>\n",
       "      <th>SEATTLE WA</th>\n",
       "      <td>2732</td>\n",
       "      <td>5265</td>\n",
       "    </tr>\n",
       "    <tr>\n",
       "      <th>SILICON VALLEY</th>\n",
       "      <td>3797</td>\n",
       "      <td>4722</td>\n",
       "    </tr>\n",
       "    <tr>\n",
       "      <th>TUCSON AZ</th>\n",
       "      <td>799</td>\n",
       "      <td>1132</td>\n",
       "    </tr>\n",
       "    <tr>\n",
       "      <th>WASHINGTON DC</th>\n",
       "      <td>3692</td>\n",
       "      <td>40045</td>\n",
       "    </tr>\n",
       "  </tbody>\n",
       "</table>\n",
       "</div>"
      ],
      "text/plain": [
       "Company         Pink Cab  Yellow Cab\n",
       "City                                \n",
       "ATLANTA GA          1762        5795\n",
       "AUSTIN TX           1868        3028\n",
       "BOSTON MA           5186       24506\n",
       "CHICAGO IL          9361       47264\n",
       "DALLAS TX           1380        5637\n",
       "DENVER CO           1394        2431\n",
       "LOS ANGELES CA     19865       28168\n",
       "MIAMI FL            2002        4452\n",
       "NASHVILLE TN        1841        1169\n",
       "NEW YORK NY        13967       85918\n",
       "ORANGE COUNTY       1513        2469\n",
       "PHOENIX AZ           864        1200\n",
       "PITTSBURGH PA        682         631\n",
       "SACRAMENTO CA       1334        1033\n",
       "SAN DIEGO CA       10672        9816\n",
       "SEATTLE WA          2732        5265\n",
       "SILICON VALLEY      3797        4722\n",
       "TUCSON AZ            799        1132\n",
       "WASHINGTON DC       3692       40045"
      ]
     },
     "execution_count": 9,
     "metadata": {},
     "output_type": "execute_result"
    }
   ],
   "source": [
    "#Contigency Table: Frequency of a particular cab company's usage in cities.\n",
    "pd.crosstab(Cab_Data.City, Cab_Data.Company)"
   ]
  },
  {
   "cell_type": "code",
   "execution_count": null,
   "id": "0f2d4dcf",
   "metadata": {},
   "outputs": [],
   "source": [
    "#One can see that some despite the fact that yellow cab is been used more generally, some states use the pink cab more that the yellow cab.\n",
    "#The majority of states use yellow cab more than pink cab. Nashville, Pittsburgh, Sacramento and San Diego use Pink cab more but by a small proportion."
   ]
  },
  {
   "cell_type": "code",
   "execution_count": 61,
   "id": "1891cd1e",
   "metadata": {},
   "outputs": [
    {
     "data": {
      "image/png": "[encoded data removed]",
      "text/plain": [
       "<Figure size 640x480 with 1 Axes>"
      ]
     },
     "metadata": {},
     "output_type": "display_data"
    }
   ],
   "source": [
    "Cab_Data.City.value_counts().plot.bar()\n",
    "#Note: for horizontal barchat use 'plot.barh()', for vertical bar chat use 'plot.bar()'.\n",
    "\n",
    "\n",
    "plt.xlabel(\"City\")\n",
    "plt.ylabel(\"Users\")\n",
    "plt.title(\"Yellow and Pink Cab Users in Cities\")\n",
    "plt.show()\n",
    "plt.close()"
   ]
  },
  {
   "cell_type": "code",
   "execution_count": null,
   "id": "7125f94c",
   "metadata": {},
   "outputs": [],
   "source": [
    "# The graph above shows that New York has the highest number of yellow and pink cab users, and Pittsburgh has the lowest number."
   ]
  },
  {
   "cell_type": "markdown",
   "id": "af73e5e1",
   "metadata": {},
   "source": [
    "# Exploratory Data Analysis of City Data"
   ]
  },
  {
   "cell_type": "code",
   "execution_count": 4,
   "id": "725d36c1",
   "metadata": {},
   "outputs": [],
   "source": [
    "#Import City Data\n",
    "City_Data = pd.read_excel('C:/Users/14432/Downloads/City_Data.xlsx')"
   ]
  },
  {
   "cell_type": "code",
   "execution_count": 35,
   "id": "b94e82a3",
   "metadata": {},
   "outputs": [
    {
     "data": {
      "text/html": [
       "<div>\n",
       "<style scoped>\n",
       "    .dataframe tbody tr th:only-of-type {\n",
       "        vertical-align: middle;\n",
       "    }\n",
       "\n",
       "    .dataframe tbody tr th {\n",
       "        vertical-align: top;\n",
       "    }\n",
       "\n",
       "    .dataframe thead th {\n",
       "        text-align: right;\n",
       "    }\n",
       "</style>\n",
       "<table border=\"1\" class=\"dataframe\">\n",
       "  <thead>\n",
       "    <tr style=\"text-align: right;\">\n",
       "      <th></th>\n",
       "      <th>City</th>\n",
       "      <th>Population</th>\n",
       "      <th>Users</th>\n",
       "    </tr>\n",
       "  </thead>\n",
       "  <tbody>\n",
       "    <tr>\n",
       "      <th>0</th>\n",
       "      <td>NEW YORK NY</td>\n",
       "      <td>8405837</td>\n",
       "      <td>302149</td>\n",
       "    </tr>\n",
       "    <tr>\n",
       "      <th>1</th>\n",
       "      <td>CHICAGO IL</td>\n",
       "      <td>1955130</td>\n",
       "      <td>164468</td>\n",
       "    </tr>\n",
       "    <tr>\n",
       "      <th>2</th>\n",
       "      <td>LOS ANGELES CA</td>\n",
       "      <td>1595037</td>\n",
       "      <td>144132</td>\n",
       "    </tr>\n",
       "    <tr>\n",
       "      <th>3</th>\n",
       "      <td>MIAMI FL</td>\n",
       "      <td>1339155</td>\n",
       "      <td>17675</td>\n",
       "    </tr>\n",
       "    <tr>\n",
       "      <th>4</th>\n",
       "      <td>SILICON VALLEY</td>\n",
       "      <td>1177609</td>\n",
       "      <td>27247</td>\n",
       "    </tr>\n",
       "  </tbody>\n",
       "</table>\n",
       "</div>"
      ],
      "text/plain": [
       "             City  Population   Users\n",
       "0     NEW YORK NY     8405837  302149\n",
       "1      CHICAGO IL     1955130  164468\n",
       "2  LOS ANGELES CA     1595037  144132\n",
       "3        MIAMI FL     1339155   17675\n",
       "4  SILICON VALLEY     1177609   27247"
      ]
     },
     "execution_count": 35,
     "metadata": {},
     "output_type": "execute_result"
    }
   ],
   "source": [
    "#View the data\n",
    "City_Data.head()"
   ]
  },
  {
   "cell_type": "code",
   "execution_count": 36,
   "id": "9b3aec4b",
   "metadata": {},
   "outputs": [
    {
     "name": "stdout",
     "output_type": "stream",
     "text": [
      "<class 'pandas.core.frame.DataFrame'>\n",
      "RangeIndex: 20 entries, 0 to 19\n",
      "Data columns (total 3 columns):\n",
      " #   Column      Non-Null Count  Dtype \n",
      "---  ------      --------------  ----- \n",
      " 0   City        20 non-null     object\n",
      " 1   Population  20 non-null     int64 \n",
      " 2   Users       20 non-null     int64 \n",
      "dtypes: int64(2), object(1)\n",
      "memory usage: 612.0+ bytes\n"
     ]
    }
   ],
   "source": [
    "City_Data.info()"
   ]
  },
  {
   "cell_type": "code",
   "execution_count": 37,
   "id": "7089e0c5",
   "metadata": {},
   "outputs": [
    {
     "data": {
      "text/plain": [
       "array([[<Axes: title={'center': 'Population'}>,\n",
       "        <Axes: title={'center': 'Users'}>]], dtype=object)"
      ]
     },
     "execution_count": 37,
     "metadata": {},
     "output_type": "execute_result"
    },
    {
     "data": {
      "image/png": "[encoded data removed]",
      "text/plain": [
       "<Figure size 640x480 with 2 Axes>"
      ]
     },
     "metadata": {},
     "output_type": "display_data"
    }
   ],
   "source": [
    "#Check for outliers\n",
    "City_Data.hist()"
   ]
  },
  {
   "cell_type": "code",
   "execution_count": null,
   "id": "eacd29c8",
   "metadata": {},
   "outputs": [],
   "source": [
    "#There seems to be no outliers in the data, the users distribution match the population distribution, this may imply that population size may have an effect on demand. \n",
    "#We would transfrom the data by finding the percentage of the users in the population ([users/population]*100)."
   ]
  },
  {
   "cell_type": "code",
   "execution_count": 9,
   "id": "000d36c8",
   "metadata": {},
   "outputs": [],
   "source": [
    "City_Data['Perc_Users'] = ((City_Data['Users'] / City_Data['Population']) *100).round(2)"
   ]
  },
  {
   "cell_type": "code",
   "execution_count": 22,
   "id": "c717528e",
   "metadata": {},
   "outputs": [
    {
     "data": {
      "text/html": [
       "<div>\n",
       "<style scoped>\n",
       "    .dataframe tbody tr th:only-of-type {\n",
       "        vertical-align: middle;\n",
       "    }\n",
       "\n",
       "    .dataframe tbody tr th {\n",
       "        vertical-align: top;\n",
       "    }\n",
       "\n",
       "    .dataframe thead th {\n",
       "        text-align: right;\n",
       "    }\n",
       "</style>\n",
       "<table border=\"1\" class=\"dataframe\">\n",
       "  <thead>\n",
       "    <tr style=\"text-align: right;\">\n",
       "      <th></th>\n",
       "      <th>City</th>\n",
       "      <th>Population</th>\n",
       "      <th>Users</th>\n",
       "      <th>Perc_Users</th>\n",
       "    </tr>\n",
       "  </thead>\n",
       "  <tbody>\n",
       "    <tr>\n",
       "      <th>0</th>\n",
       "      <td>NEW YORK NY</td>\n",
       "      <td>8405837</td>\n",
       "      <td>302149</td>\n",
       "      <td>3.59</td>\n",
       "    </tr>\n",
       "    <tr>\n",
       "      <th>1</th>\n",
       "      <td>CHICAGO IL</td>\n",
       "      <td>1955130</td>\n",
       "      <td>164468</td>\n",
       "      <td>8.41</td>\n",
       "    </tr>\n",
       "    <tr>\n",
       "      <th>2</th>\n",
       "      <td>LOS ANGELES CA</td>\n",
       "      <td>1595037</td>\n",
       "      <td>144132</td>\n",
       "      <td>9.04</td>\n",
       "    </tr>\n",
       "    <tr>\n",
       "      <th>3</th>\n",
       "      <td>MIAMI FL</td>\n",
       "      <td>1339155</td>\n",
       "      <td>17675</td>\n",
       "      <td>1.32</td>\n",
       "    </tr>\n",
       "    <tr>\n",
       "      <th>4</th>\n",
       "      <td>SILICON VALLEY</td>\n",
       "      <td>1177609</td>\n",
       "      <td>27247</td>\n",
       "      <td>2.31</td>\n",
       "    </tr>\n",
       "  </tbody>\n",
       "</table>\n",
       "</div>"
      ],
      "text/plain": [
       "             City  Population   Users  Perc_Users\n",
       "0     NEW YORK NY     8405837  302149        3.59\n",
       "1      CHICAGO IL     1955130  164468        8.41\n",
       "2  LOS ANGELES CA     1595037  144132        9.04\n",
       "3        MIAMI FL     1339155   17675        1.32\n",
       "4  SILICON VALLEY     1177609   27247        2.31"
      ]
     },
     "execution_count": 22,
     "metadata": {},
     "output_type": "execute_result"
    }
   ],
   "source": [
    "City_Data.head()"
   ]
  },
  {
   "cell_type": "code",
   "execution_count": 51,
   "id": "8e3fa604",
   "metadata": {},
   "outputs": [
    {
     "data": {
      "image/png": "[encoded data removed]",
      "text/plain": [
       "<Figure size 640x480 with 1 Axes>"
      ]
     },
     "metadata": {},
     "output_type": "display_data"
    }
   ],
   "source": [
    "#Visualization of cab users in cities.\n",
    "import matplotlib.pyplot as plt\n",
    "City_Data.plot.bar('City', 'Perc_Users')\n",
    "\n",
    "plt.xlabel(\"City\")\n",
    "plt.ylabel(\"Users\")\n",
    "plt.title(\"Cab Users in Cities\")\n",
    "plt.show()\n",
    "plt.close()"
   ]
  },
  {
   "cell_type": "code",
   "execution_count": null,
   "id": "6d1200c6",
   "metadata": {},
   "outputs": [],
   "source": [
    "#The bar chart above shows the percentage of cab users in the population in cities. From the graph, we can see that Boston, San Francisco and Washington DC has the highest percentage of cab users."
   ]
  },
  {
   "cell_type": "code",
   "execution_count": 12,
   "id": "4fd61161",
   "metadata": {},
   "outputs": [
    {
     "name": "stdout",
     "output_type": "stream",
     "text": [
      "Mean difference: 1167071.35\n"
     ]
    }
   ],
   "source": [
    "#Mean difference: to check the relationship between population and users \n",
    "#.i.e the more the mean difference, the stronger the association between the variables.\n",
    "\n",
    "#calculate means for each group:\n",
    "Population_Mean = City_Data['Population'].mean()\n",
    "Users_Mean = City_Data['Users'].mean()\n",
    "\n",
    "#calculating the difference in mean \n",
    "mean_diff = Population_Mean - Users_Mean\n",
    "\n",
    "#print mean difference\n",
    "print(f'Mean difference: {mean_diff}')"
   ]
  },
  {
   "cell_type": "code",
   "execution_count": null,
   "id": "2dcf4ac8",
   "metadata": {},
   "outputs": [],
   "source": [
    "#The output shows a big difference in the mean, this may imply that there may be a relationship between the population size and users."
   ]
  },
  {
   "cell_type": "code",
   "execution_count": 36,
   "id": "c528186f",
   "metadata": {},
   "outputs": [
    {
     "data": {
      "image/png": "[encoded data removed]",
      "text/plain": [
       "<Figure size 640x480 with 1 Axes>"
      ]
     },
     "metadata": {},
     "output_type": "display_data"
    }
   ],
   "source": [
    "#Plot a scatter plot to check for a relationship between users and population. Note that 'plot.scatter()' is the code to plot scatter plot.\n",
    "import matplotlib.pyplot as plt\n",
    "City_Data.plot.scatter('Users', 'Population')\n",
    "plt.title('Relationship between Population and Users')\n",
    " \n",
    "plt.show()\n",
    "plt.close()"
   ]
  },
  {
   "cell_type": "code",
   "execution_count": null,
   "id": "ba5bff4b",
   "metadata": {},
   "outputs": [],
   "source": [
    "# From the scatter plot however, we cannot say that there is indeed a relationship between the two variables. A statistical test is needed to check for a relationship."
   ]
  },
  {
   "cell_type": "markdown",
   "id": "990f06d9",
   "metadata": {},
   "source": [
    "# Merging of Tables"
   ]
  },
  {
   "cell_type": "code",
   "execution_count": 30,
   "id": "b37e25a6",
   "metadata": {},
   "outputs": [],
   "source": [
    "Transaction = pd.read_csv('C:/Users/14432/Downloads/Transaction_ID_Data.csv')\n",
    "Customer = pd.read_csv('C:/Users/14432/Downloads/Customer_ID_Data.csv')"
   ]
  },
  {
   "cell_type": "code",
   "execution_count": 31,
   "id": "67ba2462",
   "metadata": {},
   "outputs": [
    {
     "data": {
      "text/html": [
       "<div>\n",
       "<style scoped>\n",
       "    .dataframe tbody tr th:only-of-type {\n",
       "        vertical-align: middle;\n",
       "    }\n",
       "\n",
       "    .dataframe tbody tr th {\n",
       "        vertical-align: top;\n",
       "    }\n",
       "\n",
       "    .dataframe thead th {\n",
       "        text-align: right;\n",
       "    }\n",
       "</style>\n",
       "<table border=\"1\" class=\"dataframe\">\n",
       "  <thead>\n",
       "    <tr style=\"text-align: right;\">\n",
       "      <th></th>\n",
       "      <th>Transaction ID</th>\n",
       "      <th>Customer ID</th>\n",
       "      <th>Payment_Mode</th>\n",
       "    </tr>\n",
       "  </thead>\n",
       "  <tbody>\n",
       "    <tr>\n",
       "      <th>0</th>\n",
       "      <td>10000011</td>\n",
       "      <td>29290</td>\n",
       "      <td>Card</td>\n",
       "    </tr>\n",
       "    <tr>\n",
       "      <th>1</th>\n",
       "      <td>10000012</td>\n",
       "      <td>27703</td>\n",
       "      <td>Card</td>\n",
       "    </tr>\n",
       "    <tr>\n",
       "      <th>2</th>\n",
       "      <td>10000013</td>\n",
       "      <td>28712</td>\n",
       "      <td>Cash</td>\n",
       "    </tr>\n",
       "    <tr>\n",
       "      <th>3</th>\n",
       "      <td>10000014</td>\n",
       "      <td>28020</td>\n",
       "      <td>Cash</td>\n",
       "    </tr>\n",
       "    <tr>\n",
       "      <th>4</th>\n",
       "      <td>10000015</td>\n",
       "      <td>27182</td>\n",
       "      <td>Card</td>\n",
       "    </tr>\n",
       "  </tbody>\n",
       "</table>\n",
       "</div>"
      ],
      "text/plain": [
       "   Transaction ID  Customer ID Payment_Mode\n",
       "0        10000011        29290         Card\n",
       "1        10000012        27703         Card\n",
       "2        10000013        28712         Cash\n",
       "3        10000014        28020         Cash\n",
       "4        10000015        27182         Card"
      ]
     },
     "execution_count": 31,
     "metadata": {},
     "output_type": "execute_result"
    }
   ],
   "source": [
    "Transaction.head()"
   ]
  },
  {
   "cell_type": "code",
   "execution_count": 32,
   "id": "e8ea0dbb",
   "metadata": {},
   "outputs": [
    {
     "data": {
      "text/html": [
       "<div>\n",
       "<style scoped>\n",
       "    .dataframe tbody tr th:only-of-type {\n",
       "        vertical-align: middle;\n",
       "    }\n",
       "\n",
       "    .dataframe tbody tr th {\n",
       "        vertical-align: top;\n",
       "    }\n",
       "\n",
       "    .dataframe thead th {\n",
       "        text-align: right;\n",
       "    }\n",
       "</style>\n",
       "<table border=\"1\" class=\"dataframe\">\n",
       "  <thead>\n",
       "    <tr style=\"text-align: right;\">\n",
       "      <th></th>\n",
       "      <th>Transaction_ID</th>\n",
       "      <th>Customer_ID</th>\n",
       "      <th>Payment_Mode</th>\n",
       "    </tr>\n",
       "  </thead>\n",
       "  <tbody>\n",
       "    <tr>\n",
       "      <th>0</th>\n",
       "      <td>10000011</td>\n",
       "      <td>29290</td>\n",
       "      <td>Card</td>\n",
       "    </tr>\n",
       "    <tr>\n",
       "      <th>1</th>\n",
       "      <td>10000012</td>\n",
       "      <td>27703</td>\n",
       "      <td>Card</td>\n",
       "    </tr>\n",
       "    <tr>\n",
       "      <th>2</th>\n",
       "      <td>10000013</td>\n",
       "      <td>28712</td>\n",
       "      <td>Cash</td>\n",
       "    </tr>\n",
       "    <tr>\n",
       "      <th>3</th>\n",
       "      <td>10000014</td>\n",
       "      <td>28020</td>\n",
       "      <td>Cash</td>\n",
       "    </tr>\n",
       "    <tr>\n",
       "      <th>4</th>\n",
       "      <td>10000015</td>\n",
       "      <td>27182</td>\n",
       "      <td>Card</td>\n",
       "    </tr>\n",
       "  </tbody>\n",
       "</table>\n",
       "</div>"
      ],
      "text/plain": [
       "   Transaction_ID  Customer_ID Payment_Mode\n",
       "0        10000011        29290         Card\n",
       "1        10000012        27703         Card\n",
       "2        10000013        28712         Cash\n",
       "3        10000014        28020         Cash\n",
       "4        10000015        27182         Card"
      ]
     },
     "execution_count": 32,
     "metadata": {},
     "output_type": "execute_result"
    }
   ],
   "source": [
    "#Rename some columns in the tables\n",
    "Transaction = Transaction.rename(columns = {\"Transaction ID\":\"Transaction_ID\",\"Customer ID\" : \"Customer_ID\"})\n",
    "Transaction.head() \n"
   ]
  },
  {
   "cell_type": "code",
   "execution_count": 33,
   "id": "6173ce12",
   "metadata": {},
   "outputs": [
    {
     "data": {
      "text/html": [
       "<div>\n",
       "<style scoped>\n",
       "    .dataframe tbody tr th:only-of-type {\n",
       "        vertical-align: middle;\n",
       "    }\n",
       "\n",
       "    .dataframe tbody tr th {\n",
       "        vertical-align: top;\n",
       "    }\n",
       "\n",
       "    .dataframe thead th {\n",
       "        text-align: right;\n",
       "    }\n",
       "</style>\n",
       "<table border=\"1\" class=\"dataframe\">\n",
       "  <thead>\n",
       "    <tr style=\"text-align: right;\">\n",
       "      <th></th>\n",
       "      <th>Customer ID</th>\n",
       "      <th>Gender</th>\n",
       "      <th>Age</th>\n",
       "      <th>Income (USD/Month)</th>\n",
       "    </tr>\n",
       "  </thead>\n",
       "  <tbody>\n",
       "    <tr>\n",
       "      <th>0</th>\n",
       "      <td>29290</td>\n",
       "      <td>Male</td>\n",
       "      <td>28</td>\n",
       "      <td>10813</td>\n",
       "    </tr>\n",
       "    <tr>\n",
       "      <th>1</th>\n",
       "      <td>27703</td>\n",
       "      <td>Male</td>\n",
       "      <td>27</td>\n",
       "      <td>9237</td>\n",
       "    </tr>\n",
       "    <tr>\n",
       "      <th>2</th>\n",
       "      <td>28712</td>\n",
       "      <td>Male</td>\n",
       "      <td>53</td>\n",
       "      <td>11242</td>\n",
       "    </tr>\n",
       "    <tr>\n",
       "      <th>3</th>\n",
       "      <td>28020</td>\n",
       "      <td>Male</td>\n",
       "      <td>23</td>\n",
       "      <td>23327</td>\n",
       "    </tr>\n",
       "    <tr>\n",
       "      <th>4</th>\n",
       "      <td>27182</td>\n",
       "      <td>Male</td>\n",
       "      <td>33</td>\n",
       "      <td>8536</td>\n",
       "    </tr>\n",
       "  </tbody>\n",
       "</table>\n",
       "</div>"
      ],
      "text/plain": [
       "   Customer ID Gender  Age  Income (USD/Month)\n",
       "0        29290   Male   28               10813\n",
       "1        27703   Male   27                9237\n",
       "2        28712   Male   53               11242\n",
       "3        28020   Male   23               23327\n",
       "4        27182   Male   33                8536"
      ]
     },
     "execution_count": 33,
     "metadata": {},
     "output_type": "execute_result"
    }
   ],
   "source": [
    "Customer.head()"
   ]
  },
  {
   "cell_type": "code",
   "execution_count": 34,
   "id": "86c589a7",
   "metadata": {},
   "outputs": [],
   "source": [
    "Customer = Customer.rename(columns = {\"Customer ID\":\"Customer_ID\"})"
   ]
  },
  {
   "cell_type": "code",
   "execution_count": 35,
   "id": "8d1194f7",
   "metadata": {},
   "outputs": [
    {
     "name": "stdout",
     "output_type": "stream",
     "text": [
      "<class 'pandas.core.frame.DataFrame'>\n",
      "RangeIndex: 440098 entries, 0 to 440097\n",
      "Data columns (total 3 columns):\n",
      " #   Column          Non-Null Count   Dtype \n",
      "---  ------          --------------   ----- \n",
      " 0   Transaction_ID  440098 non-null  int64 \n",
      " 1   Customer_ID     440098 non-null  int64 \n",
      " 2   Payment_Mode    440098 non-null  object\n",
      "dtypes: int64(2), object(1)\n",
      "memory usage: 10.1+ MB\n"
     ]
    }
   ],
   "source": [
    "Transaction.info()"
   ]
  },
  {
   "cell_type": "code",
   "execution_count": 36,
   "id": "e0c17f36",
   "metadata": {},
   "outputs": [
    {
     "name": "stdout",
     "output_type": "stream",
     "text": [
      "<class 'pandas.core.frame.DataFrame'>\n",
      "RangeIndex: 49171 entries, 0 to 49170\n",
      "Data columns (total 4 columns):\n",
      " #   Column              Non-Null Count  Dtype \n",
      "---  ------              --------------  ----- \n",
      " 0   Customer_ID         49171 non-null  int64 \n",
      " 1   Gender              49171 non-null  object\n",
      " 2   Age                 49171 non-null  int64 \n",
      " 3   Income (USD/Month)  49171 non-null  int64 \n",
      "dtypes: int64(3), object(1)\n",
      "memory usage: 1.5+ MB\n"
     ]
    }
   ],
   "source": [
    "Customer.info()"
   ]
  },
  {
   "cell_type": "code",
   "execution_count": 37,
   "id": "ac6b7c6a",
   "metadata": {},
   "outputs": [
    {
     "data": {
      "text/html": [
       "<div>\n",
       "<style scoped>\n",
       "    .dataframe tbody tr th:only-of-type {\n",
       "        vertical-align: middle;\n",
       "    }\n",
       "\n",
       "    .dataframe tbody tr th {\n",
       "        vertical-align: top;\n",
       "    }\n",
       "\n",
       "    .dataframe thead th {\n",
       "        text-align: right;\n",
       "    }\n",
       "</style>\n",
       "<table border=\"1\" class=\"dataframe\">\n",
       "  <thead>\n",
       "    <tr style=\"text-align: right;\">\n",
       "      <th></th>\n",
       "      <th>Transaction_ID</th>\n",
       "      <th>Date of Travel</th>\n",
       "      <th>Company</th>\n",
       "      <th>City</th>\n",
       "      <th>KM Travelled</th>\n",
       "      <th>Price Charged</th>\n",
       "      <th>Cost of Trip</th>\n",
       "      <th>Profit</th>\n",
       "    </tr>\n",
       "  </thead>\n",
       "  <tbody>\n",
       "    <tr>\n",
       "      <th>0</th>\n",
       "      <td>10000011</td>\n",
       "      <td>2016-01-08</td>\n",
       "      <td>Pink Cab</td>\n",
       "      <td>ATLANTA GA</td>\n",
       "      <td>30.45</td>\n",
       "      <td>370.95</td>\n",
       "      <td>313.635</td>\n",
       "      <td>57.315</td>\n",
       "    </tr>\n",
       "    <tr>\n",
       "      <th>1</th>\n",
       "      <td>10000012</td>\n",
       "      <td>2016-01-06</td>\n",
       "      <td>Pink Cab</td>\n",
       "      <td>ATLANTA GA</td>\n",
       "      <td>28.62</td>\n",
       "      <td>358.52</td>\n",
       "      <td>334.854</td>\n",
       "      <td>23.666</td>\n",
       "    </tr>\n",
       "    <tr>\n",
       "      <th>2</th>\n",
       "      <td>10000013</td>\n",
       "      <td>2016-01-02</td>\n",
       "      <td>Pink Cab</td>\n",
       "      <td>ATLANTA GA</td>\n",
       "      <td>9.04</td>\n",
       "      <td>125.20</td>\n",
       "      <td>97.632</td>\n",
       "      <td>27.568</td>\n",
       "    </tr>\n",
       "    <tr>\n",
       "      <th>3</th>\n",
       "      <td>10000014</td>\n",
       "      <td>2016-01-07</td>\n",
       "      <td>Pink Cab</td>\n",
       "      <td>ATLANTA GA</td>\n",
       "      <td>33.17</td>\n",
       "      <td>377.40</td>\n",
       "      <td>351.602</td>\n",
       "      <td>25.798</td>\n",
       "    </tr>\n",
       "    <tr>\n",
       "      <th>4</th>\n",
       "      <td>10000015</td>\n",
       "      <td>2016-01-03</td>\n",
       "      <td>Pink Cab</td>\n",
       "      <td>ATLANTA GA</td>\n",
       "      <td>8.73</td>\n",
       "      <td>114.62</td>\n",
       "      <td>97.776</td>\n",
       "      <td>16.844</td>\n",
       "    </tr>\n",
       "  </tbody>\n",
       "</table>\n",
       "</div>"
      ],
      "text/plain": [
       "   Transaction_ID Date of Travel   Company        City  KM Travelled  \\\n",
       "0        10000011     2016-01-08  Pink Cab  ATLANTA GA         30.45   \n",
       "1        10000012     2016-01-06  Pink Cab  ATLANTA GA         28.62   \n",
       "2        10000013     2016-01-02  Pink Cab  ATLANTA GA          9.04   \n",
       "3        10000014     2016-01-07  Pink Cab  ATLANTA GA         33.17   \n",
       "4        10000015     2016-01-03  Pink Cab  ATLANTA GA          8.73   \n",
       "\n",
       "   Price Charged  Cost of Trip  Profit  \n",
       "0         370.95       313.635  57.315  \n",
       "1         358.52       334.854  23.666  \n",
       "2         125.20        97.632  27.568  \n",
       "3         377.40       351.602  25.798  \n",
       "4         114.62        97.776  16.844  "
      ]
     },
     "execution_count": 37,
     "metadata": {},
     "output_type": "execute_result"
    }
   ],
   "source": [
    "Cab_Data = Cab_Data.rename(columns = {\"Transaction ID\":\"Transaction_ID\"})\n",
    "Cab_Data.head()\n"
   ]
  },
  {
   "cell_type": "code",
   "execution_count": 38,
   "id": "c01b74ec",
   "metadata": {},
   "outputs": [],
   "source": [
    "#to see the behaviour of customers in relation to the cab companies, we combine tables.\n",
    "#we add the gender and age columns to the Cab_Data table using transaction Id as the connection."
   ]
  },
  {
   "cell_type": "code",
   "execution_count": 39,
   "id": "5b23e781",
   "metadata": {},
   "outputs": [],
   "source": [
    "#First, insert the transaction_id column from the transactions table into the customer table using customer_id as the key.\n",
    "#Note that when merging, you must assign the new data frame into the data frame you are merging .i.e customer = customer.merge .... \n",
    "#where using customer =  assigns the merged data into customer dataframe \n",
    "Customer = Customer.merge(Transaction[['Customer_ID', 'Transaction_ID']], on = 'Customer_ID')"
   ]
  },
  {
   "cell_type": "code",
   "execution_count": 72,
   "id": "b61dde37",
   "metadata": {},
   "outputs": [],
   "source": [
    "#next merge the customer dataframe to the cab_data data frame using tansaction_id as the key.\n",
    "Cab_Data = pd.merge(Cab_Data, Customer[[\"Transaction_ID\", \"Gender\", \"Age\", \"Income (USD/Month)\"]], on=\"Transaction_ID\")"
   ]
  },
  {
   "cell_type": "code",
   "execution_count": 73,
   "id": "d85b6a1a",
   "metadata": {},
   "outputs": [
    {
     "data": {
      "text/html": [
       "<div>\n",
       "<style scoped>\n",
       "    .dataframe tbody tr th:only-of-type {\n",
       "        vertical-align: middle;\n",
       "    }\n",
       "\n",
       "    .dataframe tbody tr th {\n",
       "        vertical-align: top;\n",
       "    }\n",
       "\n",
       "    .dataframe thead th {\n",
       "        text-align: right;\n",
       "    }\n",
       "</style>\n",
       "<table border=\"1\" class=\"dataframe\">\n",
       "  <thead>\n",
       "    <tr style=\"text-align: right;\">\n",
       "      <th></th>\n",
       "      <th>Transaction_ID</th>\n",
       "      <th>Date of Travel</th>\n",
       "      <th>Company</th>\n",
       "      <th>City</th>\n",
       "      <th>KM Travelled</th>\n",
       "      <th>Price Charged</th>\n",
       "      <th>Cost of Trip</th>\n",
       "      <th>Profit</th>\n",
       "      <th>Gender_x</th>\n",
       "      <th>Age_x</th>\n",
       "      <th>Age_Group</th>\n",
       "      <th>Gender_y</th>\n",
       "      <th>Age_y</th>\n",
       "      <th>Income (USD/Month)</th>\n",
       "    </tr>\n",
       "  </thead>\n",
       "  <tbody>\n",
       "    <tr>\n",
       "      <th>0</th>\n",
       "      <td>10000011</td>\n",
       "      <td>2016-01-08</td>\n",
       "      <td>Pink Cab</td>\n",
       "      <td>ATLANTA GA</td>\n",
       "      <td>30.45</td>\n",
       "      <td>370.95</td>\n",
       "      <td>313.635</td>\n",
       "      <td>57.315</td>\n",
       "      <td>Male</td>\n",
       "      <td>28</td>\n",
       "      <td>Young_Adult</td>\n",
       "      <td>Male</td>\n",
       "      <td>28</td>\n",
       "      <td>10813</td>\n",
       "    </tr>\n",
       "    <tr>\n",
       "      <th>1</th>\n",
       "      <td>10000012</td>\n",
       "      <td>2016-01-06</td>\n",
       "      <td>Pink Cab</td>\n",
       "      <td>ATLANTA GA</td>\n",
       "      <td>28.62</td>\n",
       "      <td>358.52</td>\n",
       "      <td>334.854</td>\n",
       "      <td>23.666</td>\n",
       "      <td>Male</td>\n",
       "      <td>27</td>\n",
       "      <td>Young_Adult</td>\n",
       "      <td>Male</td>\n",
       "      <td>27</td>\n",
       "      <td>9237</td>\n",
       "    </tr>\n",
       "    <tr>\n",
       "      <th>2</th>\n",
       "      <td>10000013</td>\n",
       "      <td>2016-01-02</td>\n",
       "      <td>Pink Cab</td>\n",
       "      <td>ATLANTA GA</td>\n",
       "      <td>9.04</td>\n",
       "      <td>125.20</td>\n",
       "      <td>97.632</td>\n",
       "      <td>27.568</td>\n",
       "      <td>Male</td>\n",
       "      <td>53</td>\n",
       "      <td>Middle_Aged</td>\n",
       "      <td>Male</td>\n",
       "      <td>53</td>\n",
       "      <td>11242</td>\n",
       "    </tr>\n",
       "    <tr>\n",
       "      <th>3</th>\n",
       "      <td>10000014</td>\n",
       "      <td>2016-01-07</td>\n",
       "      <td>Pink Cab</td>\n",
       "      <td>ATLANTA GA</td>\n",
       "      <td>33.17</td>\n",
       "      <td>377.40</td>\n",
       "      <td>351.602</td>\n",
       "      <td>25.798</td>\n",
       "      <td>Male</td>\n",
       "      <td>23</td>\n",
       "      <td>Young_Adult</td>\n",
       "      <td>Male</td>\n",
       "      <td>23</td>\n",
       "      <td>23327</td>\n",
       "    </tr>\n",
       "    <tr>\n",
       "      <th>4</th>\n",
       "      <td>10000015</td>\n",
       "      <td>2016-01-03</td>\n",
       "      <td>Pink Cab</td>\n",
       "      <td>ATLANTA GA</td>\n",
       "      <td>8.73</td>\n",
       "      <td>114.62</td>\n",
       "      <td>97.776</td>\n",
       "      <td>16.844</td>\n",
       "      <td>Male</td>\n",
       "      <td>33</td>\n",
       "      <td>Adult</td>\n",
       "      <td>Male</td>\n",
       "      <td>33</td>\n",
       "      <td>8536</td>\n",
       "    </tr>\n",
       "  </tbody>\n",
       "</table>\n",
       "</div>"
      ],
      "text/plain": [
       "   Transaction_ID Date of Travel   Company        City  KM Travelled  \\\n",
       "0        10000011     2016-01-08  Pink Cab  ATLANTA GA         30.45   \n",
       "1        10000012     2016-01-06  Pink Cab  ATLANTA GA         28.62   \n",
       "2        10000013     2016-01-02  Pink Cab  ATLANTA GA          9.04   \n",
       "3        10000014     2016-01-07  Pink Cab  ATLANTA GA         33.17   \n",
       "4        10000015     2016-01-03  Pink Cab  ATLANTA GA          8.73   \n",
       "\n",
       "   Price Charged  Cost of Trip  Profit Gender_x  Age_x    Age_Group Gender_y  \\\n",
       "0         370.95       313.635  57.315     Male     28  Young_Adult     Male   \n",
       "1         358.52       334.854  23.666     Male     27  Young_Adult     Male   \n",
       "2         125.20        97.632  27.568     Male     53  Middle_Aged     Male   \n",
       "3         377.40       351.602  25.798     Male     23  Young_Adult     Male   \n",
       "4         114.62        97.776  16.844     Male     33        Adult     Male   \n",
       "\n",
       "   Age_y  Income (USD/Month)  \n",
       "0     28               10813  \n",
       "1     27                9237  \n",
       "2     53               11242  \n",
       "3     23               23327  \n",
       "4     33                8536  "
      ]
     },
     "execution_count": 73,
     "metadata": {},
     "output_type": "execute_result"
    }
   ],
   "source": [
    "Cab_Data.head()"
   ]
  },
  {
   "cell_type": "code",
   "execution_count": 82,
   "id": "96a8cad2",
   "metadata": {},
   "outputs": [],
   "source": [
    "Cab_Data = Cab_Data.drop('Gender_y', axis = 1)"
   ]
  },
  {
   "cell_type": "code",
   "execution_count": 83,
   "id": "a618ee22",
   "metadata": {},
   "outputs": [],
   "source": [
    "Cab_Data = Cab_Data.drop('Age_y', axis = 1)"
   ]
  },
  {
   "cell_type": "code",
   "execution_count": 84,
   "id": "0ad1f964",
   "metadata": {},
   "outputs": [
    {
     "data": {
      "text/html": [
       "<div>\n",
       "<style scoped>\n",
       "    .dataframe tbody tr th:only-of-type {\n",
       "        vertical-align: middle;\n",
       "    }\n",
       "\n",
       "    .dataframe tbody tr th {\n",
       "        vertical-align: top;\n",
       "    }\n",
       "\n",
       "    .dataframe thead th {\n",
       "        text-align: right;\n",
       "    }\n",
       "</style>\n",
       "<table border=\"1\" class=\"dataframe\">\n",
       "  <thead>\n",
       "    <tr style=\"text-align: right;\">\n",
       "      <th></th>\n",
       "      <th>Transaction_ID</th>\n",
       "      <th>Date of Travel</th>\n",
       "      <th>Company</th>\n",
       "      <th>City</th>\n",
       "      <th>KM Travelled</th>\n",
       "      <th>Price Charged</th>\n",
       "      <th>Cost of Trip</th>\n",
       "      <th>Profit</th>\n",
       "      <th>Gender_x</th>\n",
       "      <th>Age_x</th>\n",
       "      <th>Age_Group</th>\n",
       "      <th>Income (USD/Month)</th>\n",
       "      <th>Income_Group</th>\n",
       "    </tr>\n",
       "  </thead>\n",
       "  <tbody>\n",
       "    <tr>\n",
       "      <th>0</th>\n",
       "      <td>10000011</td>\n",
       "      <td>2016-01-08</td>\n",
       "      <td>Pink Cab</td>\n",
       "      <td>ATLANTA GA</td>\n",
       "      <td>30.45</td>\n",
       "      <td>370.95</td>\n",
       "      <td>313.635</td>\n",
       "      <td>57.315</td>\n",
       "      <td>Male</td>\n",
       "      <td>28</td>\n",
       "      <td>Young_Adult</td>\n",
       "      <td>10813</td>\n",
       "      <td>Upper Middle Earner</td>\n",
       "    </tr>\n",
       "    <tr>\n",
       "      <th>1</th>\n",
       "      <td>10000012</td>\n",
       "      <td>2016-01-06</td>\n",
       "      <td>Pink Cab</td>\n",
       "      <td>ATLANTA GA</td>\n",
       "      <td>28.62</td>\n",
       "      <td>358.52</td>\n",
       "      <td>334.854</td>\n",
       "      <td>23.666</td>\n",
       "      <td>Male</td>\n",
       "      <td>27</td>\n",
       "      <td>Young_Adult</td>\n",
       "      <td>9237</td>\n",
       "      <td>Upper Middle Earner</td>\n",
       "    </tr>\n",
       "    <tr>\n",
       "      <th>2</th>\n",
       "      <td>10000013</td>\n",
       "      <td>2016-01-02</td>\n",
       "      <td>Pink Cab</td>\n",
       "      <td>ATLANTA GA</td>\n",
       "      <td>9.04</td>\n",
       "      <td>125.20</td>\n",
       "      <td>97.632</td>\n",
       "      <td>27.568</td>\n",
       "      <td>Male</td>\n",
       "      <td>53</td>\n",
       "      <td>Middle_Aged</td>\n",
       "      <td>11242</td>\n",
       "      <td>Upper Middle Earner</td>\n",
       "    </tr>\n",
       "    <tr>\n",
       "      <th>3</th>\n",
       "      <td>10000014</td>\n",
       "      <td>2016-01-07</td>\n",
       "      <td>Pink Cab</td>\n",
       "      <td>ATLANTA GA</td>\n",
       "      <td>33.17</td>\n",
       "      <td>377.40</td>\n",
       "      <td>351.602</td>\n",
       "      <td>25.798</td>\n",
       "      <td>Male</td>\n",
       "      <td>23</td>\n",
       "      <td>Young_Adult</td>\n",
       "      <td>23327</td>\n",
       "      <td>High Income Earner</td>\n",
       "    </tr>\n",
       "    <tr>\n",
       "      <th>4</th>\n",
       "      <td>10000015</td>\n",
       "      <td>2016-01-03</td>\n",
       "      <td>Pink Cab</td>\n",
       "      <td>ATLANTA GA</td>\n",
       "      <td>8.73</td>\n",
       "      <td>114.62</td>\n",
       "      <td>97.776</td>\n",
       "      <td>16.844</td>\n",
       "      <td>Male</td>\n",
       "      <td>33</td>\n",
       "      <td>Adult</td>\n",
       "      <td>8536</td>\n",
       "      <td>Upper Middle Earner</td>\n",
       "    </tr>\n",
       "  </tbody>\n",
       "</table>\n",
       "</div>"
      ],
      "text/plain": [
       "   Transaction_ID Date of Travel   Company        City  KM Travelled  \\\n",
       "0        10000011     2016-01-08  Pink Cab  ATLANTA GA         30.45   \n",
       "1        10000012     2016-01-06  Pink Cab  ATLANTA GA         28.62   \n",
       "2        10000013     2016-01-02  Pink Cab  ATLANTA GA          9.04   \n",
       "3        10000014     2016-01-07  Pink Cab  ATLANTA GA         33.17   \n",
       "4        10000015     2016-01-03  Pink Cab  ATLANTA GA          8.73   \n",
       "\n",
       "   Price Charged  Cost of Trip  Profit Gender_x  Age_x    Age_Group  \\\n",
       "0         370.95       313.635  57.315     Male     28  Young_Adult   \n",
       "1         358.52       334.854  23.666     Male     27  Young_Adult   \n",
       "2         125.20        97.632  27.568     Male     53  Middle_Aged   \n",
       "3         377.40       351.602  25.798     Male     23  Young_Adult   \n",
       "4         114.62        97.776  16.844     Male     33        Adult   \n",
       "\n",
       "   Income (USD/Month)         Income_Group  \n",
       "0               10813  Upper Middle Earner  \n",
       "1                9237  Upper Middle Earner  \n",
       "2               11242  Upper Middle Earner  \n",
       "3               23327   High Income Earner  \n",
       "4                8536  Upper Middle Earner  "
      ]
     },
     "execution_count": 84,
     "metadata": {},
     "output_type": "execute_result"
    }
   ],
   "source": [
    "Cab_Data.head()"
   ]
  },
  {
   "cell_type": "code",
   "execution_count": 85,
   "id": "baa3c9fe",
   "metadata": {},
   "outputs": [],
   "source": [
    "Cab_Data = Cab_Data.rename(columns = {\"Age_x\":\"Age\"})"
   ]
  },
  {
   "cell_type": "code",
   "execution_count": 86,
   "id": "d22e33c2",
   "metadata": {},
   "outputs": [],
   "source": [
    "Cab_Data = Cab_Data.rename(columns = {\"Gender_x\":\"Gender\"})"
   ]
  },
  {
   "cell_type": "code",
   "execution_count": 87,
   "id": "49c81bf7",
   "metadata": {},
   "outputs": [
    {
     "name": "stdout",
     "output_type": "stream",
     "text": [
      "<class 'pandas.core.frame.DataFrame'>\n",
      "Int64Index: 359392 entries, 0 to 359391\n",
      "Data columns (total 13 columns):\n",
      " #   Column              Non-Null Count   Dtype         \n",
      "---  ------              --------------   -----         \n",
      " 0   Transaction_ID      359392 non-null  int64         \n",
      " 1   Date of Travel      359392 non-null  datetime64[ns]\n",
      " 2   Company             359392 non-null  object        \n",
      " 3   City                359392 non-null  object        \n",
      " 4   KM Travelled        359392 non-null  float64       \n",
      " 5   Price Charged       359392 non-null  float64       \n",
      " 6   Cost of Trip        359392 non-null  float64       \n",
      " 7   Profit              359392 non-null  float64       \n",
      " 8   Gender              359392 non-null  object        \n",
      " 9   Age                 359392 non-null  int64         \n",
      " 10  Age_Group           359392 non-null  category      \n",
      " 11  Income (USD/Month)  359392 non-null  int64         \n",
      " 12  Income_Group        359392 non-null  category      \n",
      "dtypes: category(2), datetime64[ns](1), float64(4), int64(3), object(3)\n",
      "memory usage: 33.6+ MB\n"
     ]
    }
   ],
   "source": [
    "Cab_Data.info()"
   ]
  },
  {
   "cell_type": "code",
   "execution_count": 84,
   "id": "71717438",
   "metadata": {},
   "outputs": [
    {
     "data": {
      "text/html": [
       "<div>\n",
       "<style scoped>\n",
       "    .dataframe tbody tr th:only-of-type {\n",
       "        vertical-align: middle;\n",
       "    }\n",
       "\n",
       "    .dataframe tbody tr th {\n",
       "        vertical-align: top;\n",
       "    }\n",
       "\n",
       "    .dataframe thead th {\n",
       "        text-align: right;\n",
       "    }\n",
       "</style>\n",
       "<table border=\"1\" class=\"dataframe\">\n",
       "  <thead>\n",
       "    <tr style=\"text-align: right;\">\n",
       "      <th>Company</th>\n",
       "      <th>Pink Cab</th>\n",
       "      <th>Yellow Cab</th>\n",
       "    </tr>\n",
       "    <tr>\n",
       "      <th>Gender</th>\n",
       "      <th></th>\n",
       "      <th></th>\n",
       "    </tr>\n",
       "  </thead>\n",
       "  <tbody>\n",
       "    <tr>\n",
       "      <th>Female</th>\n",
       "      <td>37480</td>\n",
       "      <td>116000</td>\n",
       "    </tr>\n",
       "    <tr>\n",
       "      <th>Male</th>\n",
       "      <td>47231</td>\n",
       "      <td>158681</td>\n",
       "    </tr>\n",
       "  </tbody>\n",
       "</table>\n",
       "</div>"
      ],
      "text/plain": [
       "Company  Pink Cab  Yellow Cab\n",
       "Gender                       \n",
       "Female      37480      116000\n",
       "Male        47231      158681"
      ]
     },
     "execution_count": 84,
     "metadata": {},
     "output_type": "execute_result"
    }
   ],
   "source": [
    "#Contigency Table: Frequency of a particular gender's use of cabs\n",
    "pd.crosstab(Cab_Data.Gender, Cab_Data.Company)\n"
   ]
  },
  {
   "cell_type": "code",
   "execution_count": null,
   "id": "77d82ea3",
   "metadata": {},
   "outputs": [],
   "source": [
    "#From the contigency table above, we can see that the population of men that use cabs are more than the population of women that use cabs.\n",
    "#Is this due to the fact that men are more than women?"
   ]
  },
  {
   "cell_type": "code",
   "execution_count": 88,
   "id": "fa7c60d7",
   "metadata": {},
   "outputs": [
    {
     "data": {
      "text/plain": [
       "18"
      ]
     },
     "execution_count": 88,
     "metadata": {},
     "output_type": "execute_result"
    }
   ],
   "source": [
    "#the minimum age of customers in the datset is...\n",
    "Cab_Data['Age'].min()"
   ]
  },
  {
   "cell_type": "code",
   "execution_count": 89,
   "id": "d869e207",
   "metadata": {},
   "outputs": [
    {
     "data": {
      "text/plain": [
       "65"
      ]
     },
     "execution_count": 89,
     "metadata": {},
     "output_type": "execute_result"
    }
   ],
   "source": [
    "#The maximum age of customers in the datset is...\n",
    "Cab_Data['Age'].max()"
   ]
  },
  {
   "cell_type": "code",
   "execution_count": 88,
   "id": "9b3a9a02",
   "metadata": {},
   "outputs": [
    {
     "data": {
      "text/html": [
       "<div>\n",
       "<style scoped>\n",
       "    .dataframe tbody tr th:only-of-type {\n",
       "        vertical-align: middle;\n",
       "    }\n",
       "\n",
       "    .dataframe tbody tr th {\n",
       "        vertical-align: top;\n",
       "    }\n",
       "\n",
       "    .dataframe thead th {\n",
       "        text-align: right;\n",
       "    }\n",
       "</style>\n",
       "<table border=\"1\" class=\"dataframe\">\n",
       "  <thead>\n",
       "    <tr style=\"text-align: right;\">\n",
       "      <th></th>\n",
       "      <th>Transaction_ID</th>\n",
       "      <th>Date of Travel</th>\n",
       "      <th>Company</th>\n",
       "      <th>City</th>\n",
       "      <th>KM Travelled</th>\n",
       "      <th>Price Charged</th>\n",
       "      <th>Cost of Trip</th>\n",
       "      <th>Profit</th>\n",
       "      <th>Gender</th>\n",
       "      <th>Age</th>\n",
       "      <th>Age_Group</th>\n",
       "      <th>Income (USD/Month)</th>\n",
       "      <th>Income_Group</th>\n",
       "    </tr>\n",
       "  </thead>\n",
       "  <tbody>\n",
       "    <tr>\n",
       "      <th>0</th>\n",
       "      <td>10000011</td>\n",
       "      <td>2016-01-08</td>\n",
       "      <td>Pink Cab</td>\n",
       "      <td>ATLANTA GA</td>\n",
       "      <td>30.45</td>\n",
       "      <td>370.95</td>\n",
       "      <td>313.635</td>\n",
       "      <td>57.315</td>\n",
       "      <td>Male</td>\n",
       "      <td>28</td>\n",
       "      <td>Young_Adult</td>\n",
       "      <td>10813</td>\n",
       "      <td>Upper Middle Earner</td>\n",
       "    </tr>\n",
       "    <tr>\n",
       "      <th>1</th>\n",
       "      <td>10000012</td>\n",
       "      <td>2016-01-06</td>\n",
       "      <td>Pink Cab</td>\n",
       "      <td>ATLANTA GA</td>\n",
       "      <td>28.62</td>\n",
       "      <td>358.52</td>\n",
       "      <td>334.854</td>\n",
       "      <td>23.666</td>\n",
       "      <td>Male</td>\n",
       "      <td>27</td>\n",
       "      <td>Young_Adult</td>\n",
       "      <td>9237</td>\n",
       "      <td>Upper Middle Earner</td>\n",
       "    </tr>\n",
       "    <tr>\n",
       "      <th>2</th>\n",
       "      <td>10000013</td>\n",
       "      <td>2016-01-02</td>\n",
       "      <td>Pink Cab</td>\n",
       "      <td>ATLANTA GA</td>\n",
       "      <td>9.04</td>\n",
       "      <td>125.20</td>\n",
       "      <td>97.632</td>\n",
       "      <td>27.568</td>\n",
       "      <td>Male</td>\n",
       "      <td>53</td>\n",
       "      <td>Middle_Aged</td>\n",
       "      <td>11242</td>\n",
       "      <td>Upper Middle Earner</td>\n",
       "    </tr>\n",
       "    <tr>\n",
       "      <th>3</th>\n",
       "      <td>10000014</td>\n",
       "      <td>2016-01-07</td>\n",
       "      <td>Pink Cab</td>\n",
       "      <td>ATLANTA GA</td>\n",
       "      <td>33.17</td>\n",
       "      <td>377.40</td>\n",
       "      <td>351.602</td>\n",
       "      <td>25.798</td>\n",
       "      <td>Male</td>\n",
       "      <td>23</td>\n",
       "      <td>Young_Adult</td>\n",
       "      <td>23327</td>\n",
       "      <td>High Income Earner</td>\n",
       "    </tr>\n",
       "    <tr>\n",
       "      <th>4</th>\n",
       "      <td>10000015</td>\n",
       "      <td>2016-01-03</td>\n",
       "      <td>Pink Cab</td>\n",
       "      <td>ATLANTA GA</td>\n",
       "      <td>8.73</td>\n",
       "      <td>114.62</td>\n",
       "      <td>97.776</td>\n",
       "      <td>16.844</td>\n",
       "      <td>Male</td>\n",
       "      <td>33</td>\n",
       "      <td>Adult</td>\n",
       "      <td>8536</td>\n",
       "      <td>Upper Middle Earner</td>\n",
       "    </tr>\n",
       "  </tbody>\n",
       "</table>\n",
       "</div>"
      ],
      "text/plain": [
       "   Transaction_ID Date of Travel   Company        City  KM Travelled  \\\n",
       "0        10000011     2016-01-08  Pink Cab  ATLANTA GA         30.45   \n",
       "1        10000012     2016-01-06  Pink Cab  ATLANTA GA         28.62   \n",
       "2        10000013     2016-01-02  Pink Cab  ATLANTA GA          9.04   \n",
       "3        10000014     2016-01-07  Pink Cab  ATLANTA GA         33.17   \n",
       "4        10000015     2016-01-03  Pink Cab  ATLANTA GA          8.73   \n",
       "\n",
       "   Price Charged  Cost of Trip  Profit Gender  Age    Age_Group  \\\n",
       "0         370.95       313.635  57.315   Male   28  Young_Adult   \n",
       "1         358.52       334.854  23.666   Male   27  Young_Adult   \n",
       "2         125.20        97.632  27.568   Male   53  Middle_Aged   \n",
       "3         377.40       351.602  25.798   Male   23  Young_Adult   \n",
       "4         114.62        97.776  16.844   Male   33        Adult   \n",
       "\n",
       "   Income (USD/Month)         Income_Group  \n",
       "0               10813  Upper Middle Earner  \n",
       "1                9237  Upper Middle Earner  \n",
       "2               11242  Upper Middle Earner  \n",
       "3               23327   High Income Earner  \n",
       "4                8536  Upper Middle Earner  "
      ]
     },
     "execution_count": 88,
     "metadata": {},
     "output_type": "execute_result"
    }
   ],
   "source": [
    "#To see the age group that patronizes cabs more we will group the ages by making bins and categorizing them.\n",
    "bins = [18, 20, 30, 45, 60, 100]\n",
    "labels = ['Teen_Adults', 'Young_Adult', 'Adult', 'Middle_Aged', 'Elder']\n",
    "Cab_Data['Age_Group'] = pd.cut(Cab_Data['Age'], bins=bins, labels=labels, right=False)\n",
    "Cab_Data.head()"
   ]
  },
  {
   "cell_type": "code",
   "execution_count": 74,
   "id": "12b8b263",
   "metadata": {},
   "outputs": [
    {
     "data": {
      "text/plain": [
       "2000"
      ]
     },
     "execution_count": 74,
     "metadata": {},
     "output_type": "execute_result"
    }
   ],
   "source": [
    "#The minimum monthly income of customers is?\n",
    "Cab_Data['Income (USD/Month)'].min()"
   ]
  },
  {
   "cell_type": "code",
   "execution_count": 75,
   "id": "9bdfe1bc",
   "metadata": {},
   "outputs": [
    {
     "data": {
      "text/plain": [
       "35000"
      ]
     },
     "execution_count": 75,
     "metadata": {},
     "output_type": "execute_result"
    }
   ],
   "source": [
    "#The maximum monthly income is?\n",
    "Cab_Data['Income (USD/Month)'].max()"
   ]
  },
  {
   "cell_type": "code",
   "execution_count": 89,
   "id": "18a0ec99",
   "metadata": {},
   "outputs": [
    {
     "data": {
      "text/html": [
       "<div>\n",
       "<style scoped>\n",
       "    .dataframe tbody tr th:only-of-type {\n",
       "        vertical-align: middle;\n",
       "    }\n",
       "\n",
       "    .dataframe tbody tr th {\n",
       "        vertical-align: top;\n",
       "    }\n",
       "\n",
       "    .dataframe thead th {\n",
       "        text-align: right;\n",
       "    }\n",
       "</style>\n",
       "<table border=\"1\" class=\"dataframe\">\n",
       "  <thead>\n",
       "    <tr style=\"text-align: right;\">\n",
       "      <th></th>\n",
       "      <th>Transaction_ID</th>\n",
       "      <th>Date of Travel</th>\n",
       "      <th>Company</th>\n",
       "      <th>City</th>\n",
       "      <th>KM Travelled</th>\n",
       "      <th>Price Charged</th>\n",
       "      <th>Cost of Trip</th>\n",
       "      <th>Profit</th>\n",
       "      <th>Gender</th>\n",
       "      <th>Age</th>\n",
       "      <th>Age_Group</th>\n",
       "      <th>Income (USD/Month)</th>\n",
       "      <th>Income_Group</th>\n",
       "    </tr>\n",
       "  </thead>\n",
       "  <tbody>\n",
       "    <tr>\n",
       "      <th>0</th>\n",
       "      <td>10000011</td>\n",
       "      <td>2016-01-08</td>\n",
       "      <td>Pink Cab</td>\n",
       "      <td>ATLANTA GA</td>\n",
       "      <td>30.45</td>\n",
       "      <td>370.95</td>\n",
       "      <td>313.635</td>\n",
       "      <td>57.315</td>\n",
       "      <td>Male</td>\n",
       "      <td>28</td>\n",
       "      <td>Young_Adult</td>\n",
       "      <td>10813</td>\n",
       "      <td>Upper Middle Earner</td>\n",
       "    </tr>\n",
       "    <tr>\n",
       "      <th>1</th>\n",
       "      <td>10000012</td>\n",
       "      <td>2016-01-06</td>\n",
       "      <td>Pink Cab</td>\n",
       "      <td>ATLANTA GA</td>\n",
       "      <td>28.62</td>\n",
       "      <td>358.52</td>\n",
       "      <td>334.854</td>\n",
       "      <td>23.666</td>\n",
       "      <td>Male</td>\n",
       "      <td>27</td>\n",
       "      <td>Young_Adult</td>\n",
       "      <td>9237</td>\n",
       "      <td>Upper Middle Earner</td>\n",
       "    </tr>\n",
       "    <tr>\n",
       "      <th>2</th>\n",
       "      <td>10000013</td>\n",
       "      <td>2016-01-02</td>\n",
       "      <td>Pink Cab</td>\n",
       "      <td>ATLANTA GA</td>\n",
       "      <td>9.04</td>\n",
       "      <td>125.20</td>\n",
       "      <td>97.632</td>\n",
       "      <td>27.568</td>\n",
       "      <td>Male</td>\n",
       "      <td>53</td>\n",
       "      <td>Middle_Aged</td>\n",
       "      <td>11242</td>\n",
       "      <td>Upper Middle Earner</td>\n",
       "    </tr>\n",
       "    <tr>\n",
       "      <th>3</th>\n",
       "      <td>10000014</td>\n",
       "      <td>2016-01-07</td>\n",
       "      <td>Pink Cab</td>\n",
       "      <td>ATLANTA GA</td>\n",
       "      <td>33.17</td>\n",
       "      <td>377.40</td>\n",
       "      <td>351.602</td>\n",
       "      <td>25.798</td>\n",
       "      <td>Male</td>\n",
       "      <td>23</td>\n",
       "      <td>Young_Adult</td>\n",
       "      <td>23327</td>\n",
       "      <td>High Income Earner</td>\n",
       "    </tr>\n",
       "    <tr>\n",
       "      <th>4</th>\n",
       "      <td>10000015</td>\n",
       "      <td>2016-01-03</td>\n",
       "      <td>Pink Cab</td>\n",
       "      <td>ATLANTA GA</td>\n",
       "      <td>8.73</td>\n",
       "      <td>114.62</td>\n",
       "      <td>97.776</td>\n",
       "      <td>16.844</td>\n",
       "      <td>Male</td>\n",
       "      <td>33</td>\n",
       "      <td>Adult</td>\n",
       "      <td>8536</td>\n",
       "      <td>Upper Middle Earner</td>\n",
       "    </tr>\n",
       "  </tbody>\n",
       "</table>\n",
       "</div>"
      ],
      "text/plain": [
       "   Transaction_ID Date of Travel   Company        City  KM Travelled  \\\n",
       "0        10000011     2016-01-08  Pink Cab  ATLANTA GA         30.45   \n",
       "1        10000012     2016-01-06  Pink Cab  ATLANTA GA         28.62   \n",
       "2        10000013     2016-01-02  Pink Cab  ATLANTA GA          9.04   \n",
       "3        10000014     2016-01-07  Pink Cab  ATLANTA GA         33.17   \n",
       "4        10000015     2016-01-03  Pink Cab  ATLANTA GA          8.73   \n",
       "\n",
       "   Price Charged  Cost of Trip  Profit Gender  Age    Age_Group  \\\n",
       "0         370.95       313.635  57.315   Male   28  Young_Adult   \n",
       "1         358.52       334.854  23.666   Male   27  Young_Adult   \n",
       "2         125.20        97.632  27.568   Male   53  Middle_Aged   \n",
       "3         377.40       351.602  25.798   Male   23  Young_Adult   \n",
       "4         114.62        97.776  16.844   Male   33        Adult   \n",
       "\n",
       "   Income (USD/Month)         Income_Group  \n",
       "0               10813  Upper Middle Earner  \n",
       "1                9237  Upper Middle Earner  \n",
       "2               11242  Upper Middle Earner  \n",
       "3               23327   High Income Earner  \n",
       "4                8536  Upper Middle Earner  "
      ]
     },
     "execution_count": 89,
     "metadata": {},
     "output_type": "execute_result"
    }
   ],
   "source": [
    "#To see the income group that patronizes cabs more we will group the monthly by making bins and categorizing them.\n",
    "bins = [1026, 3996, 12376, 100000 ]\n",
    "labels = ['Lower Middle Earner', 'Upper Middle Earner', 'High Income Earner']\n",
    "Cab_Data['Income_Group'] = pd.cut(Cab_Data['Income (USD/Month)'], bins=bins, labels=labels, right=False)\n",
    "Cab_Data.head()"
   ]
  },
  {
   "cell_type": "code",
   "execution_count": 90,
   "id": "02c34f9e",
   "metadata": {},
   "outputs": [],
   "source": [
    "#Save the master data as a csv file to working directory (pythondata) \n",
    "Cab_Data.to_csv('Cab_Data1.csv')"
   ]
  },
  {
   "cell_type": "code",
   "execution_count": 91,
   "id": "328c294e",
   "metadata": {},
   "outputs": [],
   "source": [
    "#Import master data\n",
    "Cab_Data1 = pd.read_csv('Cab_Data1.csv')"
   ]
  },
  {
   "cell_type": "code",
   "execution_count": 92,
   "id": "67e70a5e",
   "metadata": {},
   "outputs": [
    {
     "data": {
      "text/html": [
       "<div>\n",
       "<style scoped>\n",
       "    .dataframe tbody tr th:only-of-type {\n",
       "        vertical-align: middle;\n",
       "    }\n",
       "\n",
       "    .dataframe tbody tr th {\n",
       "        vertical-align: top;\n",
       "    }\n",
       "\n",
       "    .dataframe thead th {\n",
       "        text-align: right;\n",
       "    }\n",
       "</style>\n",
       "<table border=\"1\" class=\"dataframe\">\n",
       "  <thead>\n",
       "    <tr style=\"text-align: right;\">\n",
       "      <th></th>\n",
       "      <th>Unnamed: 0</th>\n",
       "      <th>Transaction_ID</th>\n",
       "      <th>Date of Travel</th>\n",
       "      <th>Company</th>\n",
       "      <th>City</th>\n",
       "      <th>KM Travelled</th>\n",
       "      <th>Price Charged</th>\n",
       "      <th>Cost of Trip</th>\n",
       "      <th>Profit</th>\n",
       "      <th>Gender</th>\n",
       "      <th>Age</th>\n",
       "      <th>Age_Group</th>\n",
       "      <th>Income (USD/Month)</th>\n",
       "      <th>Income_Group</th>\n",
       "    </tr>\n",
       "  </thead>\n",
       "  <tbody>\n",
       "    <tr>\n",
       "      <th>0</th>\n",
       "      <td>0</td>\n",
       "      <td>10000011</td>\n",
       "      <td>2016-01-08</td>\n",
       "      <td>Pink Cab</td>\n",
       "      <td>ATLANTA GA</td>\n",
       "      <td>30.45</td>\n",
       "      <td>370.95</td>\n",
       "      <td>313.635</td>\n",
       "      <td>57.315</td>\n",
       "      <td>Male</td>\n",
       "      <td>28</td>\n",
       "      <td>Young_Adult</td>\n",
       "      <td>10813</td>\n",
       "      <td>Upper Middle Earner</td>\n",
       "    </tr>\n",
       "    <tr>\n",
       "      <th>1</th>\n",
       "      <td>1</td>\n",
       "      <td>10000012</td>\n",
       "      <td>2016-01-06</td>\n",
       "      <td>Pink Cab</td>\n",
       "      <td>ATLANTA GA</td>\n",
       "      <td>28.62</td>\n",
       "      <td>358.52</td>\n",
       "      <td>334.854</td>\n",
       "      <td>23.666</td>\n",
       "      <td>Male</td>\n",
       "      <td>27</td>\n",
       "      <td>Young_Adult</td>\n",
       "      <td>9237</td>\n",
       "      <td>Upper Middle Earner</td>\n",
       "    </tr>\n",
       "    <tr>\n",
       "      <th>2</th>\n",
       "      <td>2</td>\n",
       "      <td>10000013</td>\n",
       "      <td>2016-01-02</td>\n",
       "      <td>Pink Cab</td>\n",
       "      <td>ATLANTA GA</td>\n",
       "      <td>9.04</td>\n",
       "      <td>125.20</td>\n",
       "      <td>97.632</td>\n",
       "      <td>27.568</td>\n",
       "      <td>Male</td>\n",
       "      <td>53</td>\n",
       "      <td>Middle_Aged</td>\n",
       "      <td>11242</td>\n",
       "      <td>Upper Middle Earner</td>\n",
       "    </tr>\n",
       "    <tr>\n",
       "      <th>3</th>\n",
       "      <td>3</td>\n",
       "      <td>10000014</td>\n",
       "      <td>2016-01-07</td>\n",
       "      <td>Pink Cab</td>\n",
       "      <td>ATLANTA GA</td>\n",
       "      <td>33.17</td>\n",
       "      <td>377.40</td>\n",
       "      <td>351.602</td>\n",
       "      <td>25.798</td>\n",
       "      <td>Male</td>\n",
       "      <td>23</td>\n",
       "      <td>Young_Adult</td>\n",
       "      <td>23327</td>\n",
       "      <td>High Income Earner</td>\n",
       "    </tr>\n",
       "    <tr>\n",
       "      <th>4</th>\n",
       "      <td>4</td>\n",
       "      <td>10000015</td>\n",
       "      <td>2016-01-03</td>\n",
       "      <td>Pink Cab</td>\n",
       "      <td>ATLANTA GA</td>\n",
       "      <td>8.73</td>\n",
       "      <td>114.62</td>\n",
       "      <td>97.776</td>\n",
       "      <td>16.844</td>\n",
       "      <td>Male</td>\n",
       "      <td>33</td>\n",
       "      <td>Adult</td>\n",
       "      <td>8536</td>\n",
       "      <td>Upper Middle Earner</td>\n",
       "    </tr>\n",
       "  </tbody>\n",
       "</table>\n",
       "</div>"
      ],
      "text/plain": [
       "   Unnamed: 0  Transaction_ID Date of Travel   Company        City  \\\n",
       "0           0        10000011     2016-01-08  Pink Cab  ATLANTA GA   \n",
       "1           1        10000012     2016-01-06  Pink Cab  ATLANTA GA   \n",
       "2           2        10000013     2016-01-02  Pink Cab  ATLANTA GA   \n",
       "3           3        10000014     2016-01-07  Pink Cab  ATLANTA GA   \n",
       "4           4        10000015     2016-01-03  Pink Cab  ATLANTA GA   \n",
       "\n",
       "   KM Travelled  Price Charged  Cost of Trip  Profit Gender  Age    Age_Group  \\\n",
       "0         30.45         370.95       313.635  57.315   Male   28  Young_Adult   \n",
       "1         28.62         358.52       334.854  23.666   Male   27  Young_Adult   \n",
       "2          9.04         125.20        97.632  27.568   Male   53  Middle_Aged   \n",
       "3         33.17         377.40       351.602  25.798   Male   23  Young_Adult   \n",
       "4          8.73         114.62        97.776  16.844   Male   33        Adult   \n",
       "\n",
       "   Income (USD/Month)         Income_Group  \n",
       "0               10813  Upper Middle Earner  \n",
       "1                9237  Upper Middle Earner  \n",
       "2               11242  Upper Middle Earner  \n",
       "3               23327   High Income Earner  \n",
       "4                8536  Upper Middle Earner  "
      ]
     },
     "execution_count": 92,
     "metadata": {},
     "output_type": "execute_result"
    }
   ],
   "source": [
    "Cab_Data1.head()"
   ]
  },
  {
   "cell_type": "code",
   "execution_count": 93,
   "id": "f84c25e2",
   "metadata": {},
   "outputs": [],
   "source": [
    "Cab_Data1 = Cab_Data1.drop(Cab_Data1.columns[[0]], axis=1)"
   ]
  },
  {
   "cell_type": "code",
   "execution_count": 94,
   "id": "55a091c5",
   "metadata": {},
   "outputs": [
    {
     "data": {
      "text/html": [
       "<div>\n",
       "<style scoped>\n",
       "    .dataframe tbody tr th:only-of-type {\n",
       "        vertical-align: middle;\n",
       "    }\n",
       "\n",
       "    .dataframe tbody tr th {\n",
       "        vertical-align: top;\n",
       "    }\n",
       "\n",
       "    .dataframe thead th {\n",
       "        text-align: right;\n",
       "    }\n",
       "</style>\n",
       "<table border=\"1\" class=\"dataframe\">\n",
       "  <thead>\n",
       "    <tr style=\"text-align: right;\">\n",
       "      <th></th>\n",
       "      <th>Transaction_ID</th>\n",
       "      <th>Date of Travel</th>\n",
       "      <th>Company</th>\n",
       "      <th>City</th>\n",
       "      <th>KM Travelled</th>\n",
       "      <th>Price Charged</th>\n",
       "      <th>Cost of Trip</th>\n",
       "      <th>Profit</th>\n",
       "      <th>Gender</th>\n",
       "      <th>Age</th>\n",
       "      <th>Age_Group</th>\n",
       "      <th>Income (USD/Month)</th>\n",
       "      <th>Income_Group</th>\n",
       "    </tr>\n",
       "  </thead>\n",
       "  <tbody>\n",
       "    <tr>\n",
       "      <th>0</th>\n",
       "      <td>10000011</td>\n",
       "      <td>2016-01-08</td>\n",
       "      <td>Pink Cab</td>\n",
       "      <td>ATLANTA GA</td>\n",
       "      <td>30.45</td>\n",
       "      <td>370.95</td>\n",
       "      <td>313.635</td>\n",
       "      <td>57.315</td>\n",
       "      <td>Male</td>\n",
       "      <td>28</td>\n",
       "      <td>Young_Adult</td>\n",
       "      <td>10813</td>\n",
       "      <td>Upper Middle Earner</td>\n",
       "    </tr>\n",
       "    <tr>\n",
       "      <th>1</th>\n",
       "      <td>10000012</td>\n",
       "      <td>2016-01-06</td>\n",
       "      <td>Pink Cab</td>\n",
       "      <td>ATLANTA GA</td>\n",
       "      <td>28.62</td>\n",
       "      <td>358.52</td>\n",
       "      <td>334.854</td>\n",
       "      <td>23.666</td>\n",
       "      <td>Male</td>\n",
       "      <td>27</td>\n",
       "      <td>Young_Adult</td>\n",
       "      <td>9237</td>\n",
       "      <td>Upper Middle Earner</td>\n",
       "    </tr>\n",
       "    <tr>\n",
       "      <th>2</th>\n",
       "      <td>10000013</td>\n",
       "      <td>2016-01-02</td>\n",
       "      <td>Pink Cab</td>\n",
       "      <td>ATLANTA GA</td>\n",
       "      <td>9.04</td>\n",
       "      <td>125.20</td>\n",
       "      <td>97.632</td>\n",
       "      <td>27.568</td>\n",
       "      <td>Male</td>\n",
       "      <td>53</td>\n",
       "      <td>Middle_Aged</td>\n",
       "      <td>11242</td>\n",
       "      <td>Upper Middle Earner</td>\n",
       "    </tr>\n",
       "    <tr>\n",
       "      <th>3</th>\n",
       "      <td>10000014</td>\n",
       "      <td>2016-01-07</td>\n",
       "      <td>Pink Cab</td>\n",
       "      <td>ATLANTA GA</td>\n",
       "      <td>33.17</td>\n",
       "      <td>377.40</td>\n",
       "      <td>351.602</td>\n",
       "      <td>25.798</td>\n",
       "      <td>Male</td>\n",
       "      <td>23</td>\n",
       "      <td>Young_Adult</td>\n",
       "      <td>23327</td>\n",
       "      <td>High Income Earner</td>\n",
       "    </tr>\n",
       "    <tr>\n",
       "      <th>4</th>\n",
       "      <td>10000015</td>\n",
       "      <td>2016-01-03</td>\n",
       "      <td>Pink Cab</td>\n",
       "      <td>ATLANTA GA</td>\n",
       "      <td>8.73</td>\n",
       "      <td>114.62</td>\n",
       "      <td>97.776</td>\n",
       "      <td>16.844</td>\n",
       "      <td>Male</td>\n",
       "      <td>33</td>\n",
       "      <td>Adult</td>\n",
       "      <td>8536</td>\n",
       "      <td>Upper Middle Earner</td>\n",
       "    </tr>\n",
       "  </tbody>\n",
       "</table>\n",
       "</div>"
      ],
      "text/plain": [
       "   Transaction_ID Date of Travel   Company        City  KM Travelled  \\\n",
       "0        10000011     2016-01-08  Pink Cab  ATLANTA GA         30.45   \n",
       "1        10000012     2016-01-06  Pink Cab  ATLANTA GA         28.62   \n",
       "2        10000013     2016-01-02  Pink Cab  ATLANTA GA          9.04   \n",
       "3        10000014     2016-01-07  Pink Cab  ATLANTA GA         33.17   \n",
       "4        10000015     2016-01-03  Pink Cab  ATLANTA GA          8.73   \n",
       "\n",
       "   Price Charged  Cost of Trip  Profit Gender  Age    Age_Group  \\\n",
       "0         370.95       313.635  57.315   Male   28  Young_Adult   \n",
       "1         358.52       334.854  23.666   Male   27  Young_Adult   \n",
       "2         125.20        97.632  27.568   Male   53  Middle_Aged   \n",
       "3         377.40       351.602  25.798   Male   23  Young_Adult   \n",
       "4         114.62        97.776  16.844   Male   33        Adult   \n",
       "\n",
       "   Income (USD/Month)         Income_Group  \n",
       "0               10813  Upper Middle Earner  \n",
       "1                9237  Upper Middle Earner  \n",
       "2               11242  Upper Middle Earner  \n",
       "3               23327   High Income Earner  \n",
       "4                8536  Upper Middle Earner  "
      ]
     },
     "execution_count": 94,
     "metadata": {},
     "output_type": "execute_result"
    }
   ],
   "source": [
    "Cab_Data1.head()"
   ]
  },
  {
   "cell_type": "code",
   "execution_count": 95,
   "id": "e3ed7077",
   "metadata": {},
   "outputs": [
    {
     "name": "stdout",
     "output_type": "stream",
     "text": [
      "<class 'pandas.core.frame.DataFrame'>\n",
      "RangeIndex: 359392 entries, 0 to 359391\n",
      "Data columns (total 13 columns):\n",
      " #   Column              Non-Null Count   Dtype  \n",
      "---  ------              --------------   -----  \n",
      " 0   Transaction_ID      359392 non-null  int64  \n",
      " 1   Date of Travel      359392 non-null  object \n",
      " 2   Company             359392 non-null  object \n",
      " 3   City                359392 non-null  object \n",
      " 4   KM Travelled        359392 non-null  float64\n",
      " 5   Price Charged       359392 non-null  float64\n",
      " 6   Cost of Trip        359392 non-null  float64\n",
      " 7   Profit              359392 non-null  float64\n",
      " 8   Gender              359392 non-null  object \n",
      " 9   Age                 359392 non-null  int64  \n",
      " 10  Age_Group           359392 non-null  object \n",
      " 11  Income (USD/Month)  359392 non-null  int64  \n",
      " 12  Income_Group        359392 non-null  object \n",
      "dtypes: float64(4), int64(3), object(6)\n",
      "memory usage: 35.6+ MB\n"
     ]
    }
   ],
   "source": [
    "Cab_Data1.info()"
   ]
  },
  {
   "cell_type": "code",
   "execution_count": 96,
   "id": "9559256e",
   "metadata": {},
   "outputs": [],
   "source": [
    "#Convert the data type of date of travel column to datetime.\n",
    "Cab_Data1['Date of Travel'] = pd.to_datetime(Cab_Data1['Date of Travel'])"
   ]
  },
  {
   "cell_type": "code",
   "execution_count": 97,
   "id": "c2296aac",
   "metadata": {},
   "outputs": [],
   "source": [
    "Cab_Data1['Transaction_ID'] = Cab_Data1['Transaction_ID'].astype(str)"
   ]
  },
  {
   "cell_type": "code",
   "execution_count": 98,
   "id": "65b43fa8",
   "metadata": {},
   "outputs": [
    {
     "name": "stdout",
     "output_type": "stream",
     "text": [
      "<class 'pandas.core.frame.DataFrame'>\n",
      "RangeIndex: 359392 entries, 0 to 359391\n",
      "Data columns (total 13 columns):\n",
      " #   Column              Non-Null Count   Dtype         \n",
      "---  ------              --------------   -----         \n",
      " 0   Transaction_ID      359392 non-null  object        \n",
      " 1   Date of Travel      359392 non-null  datetime64[ns]\n",
      " 2   Company             359392 non-null  object        \n",
      " 3   City                359392 non-null  object        \n",
      " 4   KM Travelled        359392 non-null  float64       \n",
      " 5   Price Charged       359392 non-null  float64       \n",
      " 6   Cost of Trip        359392 non-null  float64       \n",
      " 7   Profit              359392 non-null  float64       \n",
      " 8   Gender              359392 non-null  object        \n",
      " 9   Age                 359392 non-null  int64         \n",
      " 10  Age_Group           359392 non-null  object        \n",
      " 11  Income (USD/Month)  359392 non-null  int64         \n",
      " 12  Income_Group        359392 non-null  object        \n",
      "dtypes: datetime64[ns](1), float64(4), int64(2), object(6)\n",
      "memory usage: 35.6+ MB\n"
     ]
    }
   ],
   "source": [
    "Cab_Data1.info()"
   ]
  },
  {
   "cell_type": "code",
   "execution_count": 15,
   "id": "8bfe72f9",
   "metadata": {},
   "outputs": [
    {
     "data": {
      "text/html": [
       "<div>\n",
       "<style scoped>\n",
       "    .dataframe tbody tr th:only-of-type {\n",
       "        vertical-align: middle;\n",
       "    }\n",
       "\n",
       "    .dataframe tbody tr th {\n",
       "        vertical-align: top;\n",
       "    }\n",
       "\n",
       "    .dataframe thead th {\n",
       "        text-align: right;\n",
       "    }\n",
       "</style>\n",
       "<table border=\"1\" class=\"dataframe\">\n",
       "  <thead>\n",
       "    <tr style=\"text-align: right;\">\n",
       "      <th>Company</th>\n",
       "      <th>Pink Cab</th>\n",
       "      <th>Yellow Cab</th>\n",
       "    </tr>\n",
       "    <tr>\n",
       "      <th>Age_Group</th>\n",
       "      <th></th>\n",
       "      <th></th>\n",
       "    </tr>\n",
       "  </thead>\n",
       "  <tbody>\n",
       "    <tr>\n",
       "      <th>Adult</th>\n",
       "      <td>32681</td>\n",
       "      <td>106960</td>\n",
       "    </tr>\n",
       "    <tr>\n",
       "      <th>Elder</th>\n",
       "      <td>5429</td>\n",
       "      <td>17257</td>\n",
       "    </tr>\n",
       "    <tr>\n",
       "      <th>Middle_Aged</th>\n",
       "      <td>13634</td>\n",
       "      <td>44564</td>\n",
       "    </tr>\n",
       "    <tr>\n",
       "      <th>Teen_Adults</th>\n",
       "      <td>5497</td>\n",
       "      <td>16940</td>\n",
       "    </tr>\n",
       "    <tr>\n",
       "      <th>Young_Adult</th>\n",
       "      <td>27470</td>\n",
       "      <td>88960</td>\n",
       "    </tr>\n",
       "  </tbody>\n",
       "</table>\n",
       "</div>"
      ],
      "text/plain": [
       "Company      Pink Cab  Yellow Cab\n",
       "Age_Group                        \n",
       "Adult           32681      106960\n",
       "Elder            5429       17257\n",
       "Middle_Aged     13634       44564\n",
       "Teen_Adults      5497       16940\n",
       "Young_Adult     27470       88960"
      ]
     },
     "execution_count": 15,
     "metadata": {},
     "output_type": "execute_result"
    }
   ],
   "source": [
    "#Contigency Table: Frequency of a particular Age group use of cabs\n",
    "pd.crosstab(Cab_Data1.Age_Group, Cab_Data1.Company)"
   ]
  },
  {
   "cell_type": "code",
   "execution_count": null,
   "id": "60dd0626",
   "metadata": {},
   "outputs": [],
   "source": [
    "#From the contigency table above, we can see that adult age group use cabs the most, followed by the young adults, the teen adults use cabs the least.\n",
    "#The age group bin: 18-19(teen adults), 20-30(young adult), 30-45(adults), 45-60(middle-aged), 60-100(elder)."
   ]
  },
  {
   "cell_type": "code",
   "execution_count": 17,
   "id": "d935b7a9",
   "metadata": {},
   "outputs": [
    {
     "data": {
      "image/png": "[encoded data removed]",
      "text/plain": [
       "<Figure size 640x480 with 1 Axes>"
      ]
     },
     "metadata": {},
     "output_type": "display_data"
    }
   ],
   "source": [
    "#Visualize the categorical data (Age Group).\n",
    "# creating the bar plot\n",
    "import matplotlib.pyplot as plt\n",
    "Cab_Data1.Age_Group.value_counts().plot.barh()\n",
    " \n",
    "plt.xlabel(\"No. of Occurrence\")\n",
    "plt.ylabel(\"Age Groups\")\n",
    "plt.title(\"Cab Usage Among Age Groups\")\n",
    "plt.show()\n",
    "plt.close()"
   ]
  },
  {
   "cell_type": "code",
   "execution_count": null,
   "id": "02630861",
   "metadata": {},
   "outputs": [],
   "source": [
    "#From the bar chart above, our contigency table is better understood. \n",
    "#Adult population of customers use cabs the most.\n",
    "#Teen adults and elders use cabs the least."
   ]
  },
  {
   "cell_type": "code",
   "execution_count": 99,
   "id": "e125d9f3",
   "metadata": {},
   "outputs": [
    {
     "data": {
      "text/html": [
       "<div>\n",
       "<style scoped>\n",
       "    .dataframe tbody tr th:only-of-type {\n",
       "        vertical-align: middle;\n",
       "    }\n",
       "\n",
       "    .dataframe tbody tr th {\n",
       "        vertical-align: top;\n",
       "    }\n",
       "\n",
       "    .dataframe thead th {\n",
       "        text-align: right;\n",
       "    }\n",
       "</style>\n",
       "<table border=\"1\" class=\"dataframe\">\n",
       "  <thead>\n",
       "    <tr style=\"text-align: right;\">\n",
       "      <th>Company</th>\n",
       "      <th>Pink Cab</th>\n",
       "      <th>Yellow Cab</th>\n",
       "    </tr>\n",
       "    <tr>\n",
       "      <th>Income_Group</th>\n",
       "      <th></th>\n",
       "      <th></th>\n",
       "    </tr>\n",
       "  </thead>\n",
       "  <tbody>\n",
       "    <tr>\n",
       "      <th>High Income Earner</th>\n",
       "      <td>50269</td>\n",
       "      <td>162768</td>\n",
       "    </tr>\n",
       "    <tr>\n",
       "      <th>Lower Middle Earner</th>\n",
       "      <td>6779</td>\n",
       "      <td>21694</td>\n",
       "    </tr>\n",
       "    <tr>\n",
       "      <th>Upper Middle Earner</th>\n",
       "      <td>27663</td>\n",
       "      <td>90219</td>\n",
       "    </tr>\n",
       "  </tbody>\n",
       "</table>\n",
       "</div>"
      ],
      "text/plain": [
       "Company              Pink Cab  Yellow Cab\n",
       "Income_Group                             \n",
       "High Income Earner      50269      162768\n",
       "Lower Middle Earner      6779       21694\n",
       "Upper Middle Earner     27663       90219"
      ]
     },
     "execution_count": 99,
     "metadata": {},
     "output_type": "execute_result"
    }
   ],
   "source": [
    "#Contigency Table: Frequency of a particular Income group's use of cabs\n",
    "pd.crosstab(Cab_Data1.Income_Group, Cab_Data1.Company)"
   ]
  },
  {
   "cell_type": "code",
   "execution_count": null,
   "id": "b6e195b9",
   "metadata": {},
   "outputs": [],
   "source": [
    "#From the contigency table above, we can see that high income earners patronize cabs the most among the three income groups.\n",
    "#The income groups classification is derived according to the world bank atlas method. GNI per capita can be classified as; \n",
    "#Lower middle earner ($1026 - $3995), upper middle income earners($3996 - $12375), high income earners($12376 - above)."
   ]
  },
  {
   "cell_type": "code",
   "execution_count": 100,
   "id": "7abcc854",
   "metadata": {},
   "outputs": [
    {
     "data": {
      "image/png": "[encoded data removed]",
      "text/plain": [
       "<Figure size 640x480 with 1 Axes>"
      ]
     },
     "metadata": {},
     "output_type": "display_data"
    }
   ],
   "source": [
    "#Visualize the categorical data (Age Group).\n",
    "# creating the bar plot\n",
    "import matplotlib.pyplot as plt\n",
    "Cab_Data1.Income_Group.value_counts().plot.barh()\n",
    " \n",
    "plt.xlabel(\"No. of Occurrence\")\n",
    "plt.ylabel(\"Income Groups\")\n",
    "plt.title(\"Cab Usage Among Income Groups\")\n",
    "plt.show()\n",
    "plt.close()"
   ]
  },
  {
   "cell_type": "code",
   "execution_count": null,
   "id": "544f5a6c",
   "metadata": {},
   "outputs": [],
   "source": [
    "#From the bar chart above, our contigency table is better understood. \n",
    "#High Income Earners use cabs the most.\n",
    "#Low middle Income Earners use cabs the least."
   ]
  },
  {
   "cell_type": "markdown",
   "id": "2014b010",
   "metadata": {},
   "source": [
    "# Hypothesis Testing"
   ]
  },
  {
   "cell_type": "code",
   "execution_count": null,
   "id": "148c67bc",
   "metadata": {},
   "outputs": [],
   "source": [
    "# The output of the hypothesis test is generally a statistical value called the p-value. \n",
    "#This value is the probability of occurrence of the null hypothesis. \n",
    "#There is a threshold preset (generally 5% chance of the null hypothesis been true and the alternative hypothesis is false, \n",
    "#or 95% chance of the alternative hypothesis been true and the null hypothesis false.)\n",
    "#where if the pvalue is less than 0.05 or 5% we reject the null hypothesis and if more than 0.05 we fail to reject.\n",
    "#The following hypotheses will be tested using various statistical methods."
   ]
  },
  {
   "cell_type": "markdown",
   "id": "b8eeb1eb",
   "metadata": {},
   "source": [
    "###### Hypothesis 1"
   ]
  },
  {
   "cell_type": "code",
   "execution_count": 15,
   "id": "b4547c3a",
   "metadata": {},
   "outputs": [
    {
     "name": "stdout",
     "output_type": "stream",
     "text": [
      "the resulting p-value for the chi square test is 0.4992157406942037\n"
     ]
    }
   ],
   "source": [
    "# Is cab use associated with gender?\n",
    "# H0: There is no significant association between the two variables - Gender and Transaction_ID.\n",
    "# H1: There is a significant association between the two variables - Gender and Transaction_ID.\n",
    "\n",
    "#We test the following hypothesis using the Chi-square statistical test.\n",
    "from scipy.stats import chi2_contingency\n",
    "\n",
    "#creating contingency table for the variables Transaction_ID and Gender\n",
    "contingency_table = pd.crosstab(Cab_Data1.Transaction_ID, Cab_Data1.Gender)\n",
    "\n",
    "#applying chi square function to obtain p value by passing contingency table to the function\n",
    "res1 = chi2_contingency(contingency_table)\n",
    "print(f'the resulting p-value for the chi square test is {res1.pvalue}')\n"
   ]
  },
  {
   "cell_type": "code",
   "execution_count": null,
   "id": "22183009",
   "metadata": {},
   "outputs": [],
   "source": [
    "#Inference: *The result provides a p value of 0.4992 (49.9%) which is greater than the significance threshold of 0.05. \n",
    "#           *Using this we can conclude for our hypothesis test that we fail to reject the null hypothesis. \n",
    "#           *Hence we can assume our null hypothesis to be true which says — There is no significant association between the 2 variables — Transaction_ID and Gender.\n",
    "#           *Thus we can say that cab use by customers is not associated with gender."
   ]
  },
  {
   "cell_type": "markdown",
   "id": "fe218609",
   "metadata": {},
   "source": [
    "###### Hypothesis 2"
   ]
  },
  {
   "cell_type": "code",
   "execution_count": 16,
   "id": "ca75537c",
   "metadata": {},
   "outputs": [
    {
     "name": "stdout",
     "output_type": "stream",
     "text": [
      "the resulting p-value for the chi square test is 0.49890203790082266\n"
     ]
    }
   ],
   "source": [
    "# Is cab use associated with age?\n",
    "# H0: There is no significant association between the two variables - Age_Group and Transaction_ID.\n",
    "# H1: There is a significant association between the two variables - Age_Group and Transaction_ID.\n",
    "\n",
    "#We test the following hypothesis using the Chi-square statistical test.\n",
    "\n",
    "#creating contingency table for the variables Transaction_ID and Age_Group\n",
    "contingency_table = pd.crosstab(Cab_Data1.Transaction_ID, Cab_Data1.Age_Group)\n",
    "\n",
    "#applying chi square function to obtain p value by passing contingency table to the function\n",
    "res2 = chi2_contingency(contingency_table)\n",
    "print(f'the resulting p-value for the chi square test is {res2.pvalue}')\n"
   ]
  },
  {
   "cell_type": "code",
   "execution_count": null,
   "id": "a1675d39",
   "metadata": {},
   "outputs": [],
   "source": [
    "#Inference: *The result provides a p value of 0.4989 which is greater than the significance threshold of 0.05. \n",
    "#           *Using this we can conclude for our hypothesis test that we fail to reject the null hypothesis. \n",
    "#           *Hence we can assume our null hypothesis to be true which says — There is no significant association between the 2 variables — Transaction_ID and Age_Group.\n",
    "#           *Thus we can say that cab use by customers is not associated age group."
   ]
  },
  {
   "cell_type": "markdown",
   "id": "b33e9198",
   "metadata": {},
   "source": [
    "###### Hypothesis 3"
   ]
  },
  {
   "cell_type": "code",
   "execution_count": null,
   "id": "cab6d8d1",
   "metadata": {},
   "outputs": [],
   "source": [
    "#What type of relationship exists between population and cab users?\n",
    "# H0: There is a negative relationship between the two variables - population and users.\n",
    "# H1: There is a positive relationship between the two variables - population and users."
   ]
  },
  {
   "cell_type": "code",
   "execution_count": 22,
   "id": "8e6a2041",
   "metadata": {},
   "outputs": [
    {
     "data": {
      "text/plain": [
       "0.7033818983284993"
      ]
     },
     "execution_count": 22,
     "metadata": {},
     "output_type": "execute_result"
    }
   ],
   "source": [
    "#Find the correlation coefficient of population and users in city data.\n",
    "City_Data['Population'].corr(City_Data['Users'])"
   ]
  },
  {
   "cell_type": "code",
   "execution_count": 29,
   "id": "e4b75649",
   "metadata": {},
   "outputs": [
    {
     "data": {
      "text/plain": [
       "PearsonRResult(statistic=0.7033818983284993, pvalue=0.000540265155473827)"
      ]
     },
     "execution_count": 29,
     "metadata": {},
     "output_type": "execute_result"
    }
   ],
   "source": [
    "scipy.stats.pearsonr(City_Data['Population'], City_Data['Users'])"
   ]
  },
  {
   "cell_type": "code",
   "execution_count": null,
   "id": "93b9f881",
   "metadata": {},
   "outputs": [],
   "source": [
    "# Inference: *The Pearson's correlation coefficient gives us a value of approximately 0.7 and a pvalue of 0.0005.\n",
    "#            *The correlation coefficent indicates that there is a positive relationship between the populstion size of a city and the amount of cab users in the city.\n",
    "#            *This positive relationship implies that the bigger the population size of a city, the more cab users there will be.\n",
    "#            *The pvalue of 0.00054 is less than significance value of 0.05, therefore, we fail to accept the null hypothesis.\n",
    "#            *Hence our alternative hypothesis is true."
   ]
  },
  {
   "cell_type": "markdown",
   "id": "cc20c1aa",
   "metadata": {},
   "source": [
    "###### Hypothesis 4"
   ]
  },
  {
   "cell_type": "code",
   "execution_count": null,
   "id": "a4ebdc7d",
   "metadata": {},
   "outputs": [],
   "source": [
    "# What is the correlation coefficient of the variables - KM Travelled and Profit?\n",
    "# H0: There is a negative relationship between the two variables - KM Travelled and Profit.\n",
    "# H1: There is a positive relationship between the two vriables - KM Travelled and Profit."
   ]
  },
  {
   "cell_type": "code",
   "execution_count": 9,
   "id": "29c59174",
   "metadata": {},
   "outputs": [
    {
     "data": {
      "text/plain": [
       "PearsonRResult(statistic=0.4627681978971052, pvalue=0.0)"
      ]
     },
     "execution_count": 9,
     "metadata": {},
     "output_type": "execute_result"
    }
   ],
   "source": [
    "import scipy\n",
    "scipy.stats.pearsonr(Cab_Data1['KM Travelled'], Cab_Data1['Profit'])"
   ]
  },
  {
   "cell_type": "code",
   "execution_count": null,
   "id": "42a60eac",
   "metadata": {},
   "outputs": [],
   "source": [
    "# Inference: *The Pearson's correlation coefficient gives us a value of approximately 0.5 and a pvalue of 0.0.\n",
    "#            *The correlation coefficent indicates that there is a weak positive relationship between the profit and the KM travelled.\n",
    "#            *The pvalue of 0.0 is less than significance value of 0.05, therefore, we fail to accept the null hypothesis.\n",
    "#            *Hence our alternative hypothesis is true.\n",
    "#            *However the coefficient shows a very weak relationship between the variables."
   ]
  },
  {
   "cell_type": "markdown",
   "id": "d051fc2e",
   "metadata": {},
   "source": [
    "###### Hypothesis 5"
   ]
  },
  {
   "cell_type": "code",
   "execution_count": null,
   "id": "b43557d0",
   "metadata": {},
   "outputs": [],
   "source": [
    "#Simple linear regression analysis\n",
    "# H0: Profit is not dependent on KM Travelled.\n",
    "# H1: Profit is dependent on KM Travelled."
   ]
  },
  {
   "cell_type": "code",
   "execution_count": 66,
   "id": "a25d1b0a",
   "metadata": {},
   "outputs": [],
   "source": [
    "import statsmodels.api as sm"
   ]
  },
  {
   "cell_type": "code",
   "execution_count": 67,
   "id": "691c40d4",
   "metadata": {},
   "outputs": [
    {
     "name": "stdout",
     "output_type": "stream",
     "text": [
      "                            OLS Regression Results                            \n",
      "==============================================================================\n",
      "Dep. Variable:                 Profit   R-squared:                       0.214\n",
      "Model:                            OLS   Adj. R-squared:                  0.214\n",
      "Method:                 Least Squares   F-statistic:                 9.794e+04\n",
      "Date:                Mon, 13 Mar 2023   Prob (F-statistic):               0.00\n",
      "Time:                        13:50:59   Log-Likelihood:            -2.2913e+06\n",
      "No. Observations:              359392   AIC:                         4.583e+06\n",
      "Df Residuals:                  359390   BIC:                         4.583e+06\n",
      "Df Model:                           1                                         \n",
      "Covariance Type:            nonrobust                                         \n",
      "================================================================================\n",
      "                   coef    std err          t      P>|t|      [0.025      0.975]\n",
      "--------------------------------------------------------------------------------\n",
      "const            0.3996      0.497      0.803      0.422      -0.575       1.375\n",
      "KM Travelled     6.0643      0.019    312.952      0.000       6.026       6.102\n",
      "==============================================================================\n",
      "Omnibus:                    99440.544   Durbin-Watson:                   0.652\n",
      "Prob(Omnibus):                  0.000   Jarque-Bera (JB):           330665.781\n",
      "Skew:                           1.398   Prob(JB):                         0.00\n",
      "Kurtosis:                       6.777   Cond. No.                         53.9\n",
      "==============================================================================\n",
      "\n",
      "Notes:\n",
      "[1] Standard Errors assume that the covariance matrix of the errors is correctly specified.\n"
     ]
    }
   ],
   "source": [
    "#define response variable\n",
    "y = Cab_Data1['Profit']\n",
    "\n",
    "#define explanatory variable\n",
    "x = Cab_Data1[['KM Travelled']]\n",
    "\n",
    "#add constant to predictor variables\n",
    "x = sm.add_constant(x)\n",
    "\n",
    "#fit linear regression model\n",
    "model = sm.OLS(y, x).fit()\n",
    "\n",
    "#view model summary\n",
    "print(model.summary())"
   ]
  },
  {
   "cell_type": "code",
   "execution_count": null,
   "id": "d4caa1e4",
   "metadata": {},
   "outputs": [],
   "source": [
    "#Inference\n",
    "# From the summary result above, the fitted regression model is: Profit = 0.3996 + 6.0643(KM Travelled).\n",
    "# This means that each KM Travelled is associated with an average increase in profit of 6.0643 points. \n",
    "# The intercept value of 0.3996 tells us the average expected profit for a 0km trip.\n",
    "# The pvalue of 0.422 is greater than our significance treshhold of 0.05, thus we cannot say that there is a statistically significant association between profit and KM travelled.\n",
    "# The R-squared value tells us the percentage of variation in profit that can be explained by KM Travelled. \n",
    "# The R-Squared value of 0.214 tells us that only approximately 21% of variations in profit can be explained by changes in KM Travelled.\n",
    "# The number of residuals from the result above is more than zero implying that the model may be over/under predicting."
   ]
  },
  {
   "cell_type": "markdown",
   "id": "2e280362",
   "metadata": {},
   "source": [
    "###### Hypothesis 6"
   ]
  },
  {
   "cell_type": "code",
   "execution_count": null,
   "id": "2840d3d1",
   "metadata": {},
   "outputs": [],
   "source": [
    "#Create Residual plots\n",
    "# H0: the residuals of the regression model (Profit = 0.3996 + 6.0643(KM Travelled)) are not normally distributed and are not homoscedastic. \n",
    "# H1: the residuals of the regression model are roughly normally distributed and are homoscedastic."
   ]
  },
  {
   "cell_type": "code",
   "execution_count": 69,
   "id": "d8828cb8",
   "metadata": {},
   "outputs": [
    {
     "name": "stdout",
     "output_type": "stream",
     "text": [
      "eval_env: 1\n"
     ]
    },
    {
     "data": {
      "image/png": "[encoded data removed]",
      "text/plain": [
       "<Figure size 1200x800 with 4 Axes>"
      ]
     },
     "metadata": {},
     "output_type": "display_data"
    }
   ],
   "source": [
    "#Plot to confirm homoscedasticity\n",
    "\n",
    "import matplotlib.pyplot as plt\n",
    "#define figure size\n",
    "fig = plt.figure(figsize=(12,8))\n",
    "\n",
    "#produce residual plots\n",
    "fig = sm.graphics.plot_regress_exog(model, 'KM Travelled', fig=fig)"
   ]
  },
  {
   "cell_type": "code",
   "execution_count": null,
   "id": "860004b3",
   "metadata": {},
   "outputs": [],
   "source": [
    "#The plot at the topright hand shows the residual vs. fitted plot. Since the residuals are not randomly scattered around zero, it is an indicatiion that the model is not homoscedastic."
   ]
  },
  {
   "cell_type": "code",
   "execution_count": 70,
   "id": "cc5a4de9",
   "metadata": {},
   "outputs": [
    {
     "data": {
      "image/png": "[encoded data removed]",
      "text/plain": [
       "<Figure size 640x480 with 1 Axes>"
      ]
     },
     "metadata": {},
     "output_type": "display_data"
    }
   ],
   "source": [
    "#define residuals\n",
    "res = model.resid\n",
    "\n",
    "#create Q-Q plot\n",
    "fig = sm.qqplot(res, fit=True, line=\"45\")\n",
    "plt.show() \n",
    "plt.close()"
   ]
  },
  {
   "cell_type": "code",
   "execution_count": null,
   "id": "c8c65ee0",
   "metadata": {},
   "outputs": [],
   "source": [
    "# The residuals stray from the 45 degree straight line, thus we can say that the normality assumption is not met. Thus, we fail to reject the null hypothesis.\n",
    "# By accepting the null hypothesis, it implies that the regression model may be misleading."
   ]
  },
  {
   "cell_type": "markdown",
   "id": "35c2c0c4",
   "metadata": {},
   "source": [
    "## Recommendations"
   ]
  },
  {
   "cell_type": "markdown",
   "id": "772990fe",
   "metadata": {},
   "source": [
    "1. The data as shown in the 'Occurrence of Yellow and Pink Cabs' bar plot shows that the yellow cab company is more patronized    than the pink cab company. From this result, it is recommended that investments can be made in the yellow cab company.\n",
    "\n",
    "2. The data also shows that overtime, profit for the yellow cab company has been fairly stable and high, it thus shows that the    yellow cab company may have great potentials in the cab industry.\n",
    "\n",
    "3. The data as shown in the 'yellow and pink cab users in the cities' bar plot shows that cabs are well patronized in highly      populated cities like New York. The result of the Pearson's Correlation Coefficient test showing a positive relationsip        between population and cab users further shows that the higher the population in a city, the more the cab users will be.        This thus suggests that investment can be made in the cab industry in populous cities.\n",
    "\n",
    "4. The data depicted in the 'Cab Users in Cities' bar plot shows that Boston, San Francisco and Washington DC have the highest    percentage of cab users, with San Francisco leading the three cities. However, from the cab data used, we observe that San      Francisco which presents a great potential for the cab industry has not been tapped by either the yellow cab or pink cab        industry; it is not included in any transactions. It is recommended that investments can be made in the cab industry in San    Francisco as the city has the highest percentage of cab users in general.\n",
    "\n",
    "5. The bar chart 'Cab Usage Among Age Groups' shows the adult age group as the age group with the highest cab use, accompanied    by the young adults age group. The teen adults been the age group with the lowest patronage. Although our statsitical          result shows no significant association between age group and cab use, it is recommended that certain age groups can serve      as target audience in the cab industry depending on the goals of the camapaign.\n",
    "\n",
    "6. The bar chart 'Cab Usage Among Income Groups' shows that high income earners use cabs the most, while low middle earners use    cabs the least. This income group classification can serve as target audience in the cab industry depending on the goals of    the campaign."
   ]
  },
  {
   "cell_type": "code",
   "execution_count": null,
   "id": "465effdb",
   "metadata": {},
   "outputs": [],
   "source": []
  }
 ],
 "metadata": {
  "kernelspec": {
   "display_name": "Python 3 (ipykernel)",
   "language": "python",
   "name": "python3"
  },
  "language_info": {
   "codemirror_mode": {
    "name": "ipython",
    "version": 3
   },
   "file_extension": ".py",
   "mimetype": "text/x-python",
   "name": "python",
   "nbconvert_exporter": "python",
   "pygments_lexer": "ipython3",
   "version": "3.11.2"
  }
 },
 "nbformat": 4,
 "nbformat_minor": 5
}
